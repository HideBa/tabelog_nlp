{
 "cells": [
  {
   "cell_type": "code",
   "execution_count": 1,
   "metadata": {},
   "outputs": [
    {
     "data": {
      "text/plain": [
       "'EOS\\n'"
      ]
     },
     "execution_count": 1,
     "metadata": {},
     "output_type": "execute_result"
    }
   ],
   "source": [
    "import MeCab\n",
    "tagger = MeCab.Tagger(\"-Ochasen -d /usr/local/lib/mecab/dic/mecab-ipadic-neologd -u /Users/yuki/foo/bar/user_dic2.dic\")\n",
    "tagger.parse(\"\")"
   ]
  },
  {
   "cell_type": "code",
   "execution_count": 2,
   "metadata": {},
   "outputs": [],
   "source": [
    "from collections import Counter, defaultdict\n",
    "import json\n",
    "import re"
   ]
  },
  {
   "cell_type": "code",
   "execution_count": 3,
   "metadata": {},
   "outputs": [],
   "source": [
    "def tokenize_ja(text):\n",
    "    node = tagger.parseToNode(str(text)) #分かち書きしたのが入っている。イテレータ\n",
    "    while node:\n",
    "        surface = node.surface.lower() #surfaceは単語の見た目　例：トろ\n",
    "        feature = node.feature.split(\",\")\n",
    "        hinshi = feature[0]\n",
    "        genkei = feature[6]\n",
    "        if  surface != \"\" and hinshi in [\"形容詞\", \"動詞\", \"副詞\", \"助動詞\", \"接続詞\", \"連体詞\", \"感動詞\", \"接頭詞\"]:\n",
    "            yield genkei\n",
    "        elif  surface != \"\" and hinshi == \"名詞\":\n",
    "            yield surface\n",
    "        node = node.next"
   ]
  },
  {
   "cell_type": "code",
   "execution_count": 4,
   "metadata": {},
   "outputs": [],
   "source": [
    "def tokenize(content):\n",
    "    return [token for token in tokenize_ja(content)]"
   ]
  },
  {
   "cell_type": "code",
   "execution_count": 5,
   "metadata": {},
   "outputs": [],
   "source": [
    "text_dic = [['シャリは粒が小さめで美味しかったですが、ネタは不味かったです。', 0.9, -0.9],\n",
    " ['もう行きたくないです。', 0.8, -0.8],\n",
    " ['マグロ美味しい。', 0.7, 0.7],\n",
    " ['いくらも最高。', 0.3, 0.3],\n",
    " ['店長の傍にいたロシア系の美女は誰だろう。', 0, 0],\n",
    " [\"マグロが不味かった。\", 0.7, -0.9]]"
   ]
  },
  {
   "cell_type": "code",
   "execution_count": 6,
   "metadata": {},
   "outputs": [],
   "source": [
    "word_dic = [[\"マグロ\",2,[\"美味しい\",1],[\"まずい\",1]],\n",
    "[\"美女\",1,[\"誰\",1],[\"ロシア\",1]]]"
   ]
  },
  {
   "cell_type": "code",
   "execution_count": 16,
   "metadata": {},
   "outputs": [],
   "source": [
    "def get_posinega(text_dic, json_file):\n",
    "        f = open(json_file, \"r\")\n",
    "        json_data = json.load(f)\n",
    "        jiku_list = json_data[\"all_jiku\"][\"all_jiku_list\"]\n",
    "        #['赤酢', '握り', 'シャリ']\n",
    "        positive_dic = defaultdict(float)\n",
    "        negative_dic = defaultdict(float)\n",
    "        result = {}\n",
    "        for text in text_dic:\n",
    "            t = tokenize(text[0])\n",
    "            for jiku in jiku_list:\n",
    "                jiku_group = json_data[\"all_jiku\"][jiku][\"jiku_group\"]\n",
    "                #['握り', 'にぎり', 'ニギリ']\n",
    "                syusyoku_list = json_data[\"all_jiku\"][jiku][\"syusyoku\"][\"syusyoku_list\"]\n",
    "                #['大きい', '小さい', '創作']\n",
    "                for ji in jiku_group:\n",
    "                    if ji in t:\n",
    "                        for syusyoku in syusyoku_list:\n",
    "                            syusyoku_group = json_data[\"all_jiku\"][jiku][\"syusyoku\"][syusyoku]\n",
    "                            #[['大きい'], ['でかい'], ['大きめ'], ['ビッグ']]\n",
    "                            for s in syusyoku_group:\n",
    "                                if len(list(set(s) & set(t))) == len(s):\n",
    "                                    if text[2] > 0:\n",
    "                                        positive_dic[(jiku,syusyoku)] += text[1]*text[2]\n",
    "                                    elif text[2] < 0:\n",
    "                                        positive_dic[(jiku,syusyoku)] += -text[1]*text[2]\n",
    "        for jiku in jiku_list:\n",
    "            result[jiku] = []\n",
    "            for p in positive_dic:\n",
    "                \n",
    "        return"
   ]
  },
  {
   "cell_type": "code",
   "execution_count": 19,
   "metadata": {},
   "outputs": [
    {
     "data": {
      "text/plain": [
       "(defaultdict(float, {('シャリ', '小さい'): 0.81}), defaultdict(float, {}))"
      ]
     },
     "execution_count": 19,
     "metadata": {},
     "output_type": "execute_result"
    }
   ],
   "source": [
    "get_posinega(text_dic, \"../sample.json\")"
   ]
  },
  {
   "cell_type": "code",
   "execution_count": 10,
   "metadata": {},
   "outputs": [
    {
     "data": {
      "text/plain": [
       "<_io.TextIOWrapper name='../sample.json' mode='r' encoding='UTF-8'>"
      ]
     },
     "execution_count": 10,
     "metadata": {},
     "output_type": "execute_result"
    }
   ],
   "source": [
    "f"
   ]
  },
  {
   "cell_type": "code",
   "execution_count": null,
   "metadata": {},
   "outputs": [],
   "source": []
  }
 ],
 "metadata": {
  "kernelspec": {
   "display_name": "Python 3",
   "language": "python",
   "name": "python3"
  },
  "language_info": {
   "codemirror_mode": {
    "name": "ipython",
    "version": 3
   },
   "file_extension": ".py",
   "mimetype": "text/x-python",
   "name": "python",
   "nbconvert_exporter": "python",
   "pygments_lexer": "ipython3",
   "version": "3.7.3"
  }
 },
 "nbformat": 4,
 "nbformat_minor": 2
}
