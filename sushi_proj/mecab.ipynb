{
 "cells": [
  {
   "cell_type": "code",
   "execution_count": 3,
   "metadata": {},
   "outputs": [],
   "source": [
    "import sys \n",
    "import MeCab\n",
    "import re\n",
    "from collections import Counter"
   ]
  },
  {
   "cell_type": "code",
   "execution_count": 4,
   "metadata": {},
   "outputs": [
    {
     "data": {
      "text/plain": [
       "'うんこ\\tウンコ\\tうんこ\\t名詞-一般\\t\\t\\nEOS\\n'"
      ]
     },
     "execution_count": 4,
     "metadata": {},
     "output_type": "execute_result"
    }
   ],
   "source": [
    "m = MeCab.Tagger(\"-Ochasen\")\n",
    "m.parse(\"うんこ\")"
   ]
  },
  {
   "cell_type": "code",
   "execution_count": 5,
   "metadata": {},
   "outputs": [],
   "source": [
    "import requests"
   ]
  },
  {
   "cell_type": "code",
   "execution_count": 8,
   "metadata": {},
   "outputs": [],
   "source": [
    "from bs4 import BeautifulSoup"
   ]
  },
  {
   "cell_type": "code",
   "execution_count": 12,
   "metadata": {},
   "outputs": [],
   "source": [
    "r = \"https://tabelog.com/tokyo/A1308/A130802/13015251/dtlrvwlst/\"\n",
    "rg = requests.get(r)\n",
    "soup = BeautifulSoup(rg.content, \"html.parser\")\n",
    "contents_div = soup.find_all(\"div\", attrs={\"class\":\"rvw-item__rvw-comment\"})\n",
    "l = []\n",
    "for content in contents_div:\n",
    "    p = content.find(\"p\")\n",
    "    l.append(p.text)"
   ]
  },
  {
   "cell_type": "code",
   "execution_count": 26,
   "metadata": {},
   "outputs": [],
   "source": [
    "mecab  = MeCab.Tagger()\n",
    "sentence = \"以前来た時より格段に美味しくなっていましたね〜〜。鰹の皮目がパリッとしてコントラストが素晴らしい。煮ハマグリも上品な味わい。\"\n",
    "parse = mecab.parse(sentence)\n",
    "lines = parse.split('\\n')\n",
    "items = [re.split(\"[\\t,]\", line) for line in lines]"
   ]
  },
  {
   "cell_type": "code",
   "execution_count": 35,
   "metadata": {},
   "outputs": [
    {
     "data": {
      "text/plain": [
       "[['以前', '名詞', '副詞可能', '*', '*', '*', '*', '以前', 'イゼン', 'イゼン'],\n",
       " ['来', '動詞', '自立', '*', '*', 'カ変・来ル', '連用形', '来る', 'キ', 'キ'],\n",
       " ['た', '助動詞', '*', '*', '*', '特殊・タ', '基本形', 'た', 'タ', 'タ'],\n",
       " ['時', '名詞', '非自立', '副詞可能', '*', '*', '*', '時', 'トキ', 'トキ'],\n",
       " ['より', '助詞', '格助詞', '一般', '*', '*', '*', 'より', 'ヨリ', 'ヨリ'],\n",
       " ['格段', '名詞', '形容動詞語幹', '*', '*', '*', '*', '格段', 'カクダン', 'カクダン'],\n",
       " ['に', '助詞', '副詞化', '*', '*', '*', '*', 'に', 'ニ', 'ニ'],\n",
       " ['美味しく', '形容詞', '自立', '*', '*', '形容詞・イ段', '連用テ接続', '美味しい', 'オイシク', 'オイシク'],\n",
       " ['なっ', '動詞', '自立', '*', '*', '五段・ラ行', '連用タ接続', 'なる', 'ナッ', 'ナッ'],\n",
       " ['て', '助詞', '接続助詞', '*', '*', '*', '*', 'て', 'テ', 'テ'],\n",
       " ['い', '動詞', '非自立', '*', '*', '一段', '連用形', 'いる', 'イ', 'イ'],\n",
       " ['まし', '助動詞', '*', '*', '*', '特殊・マス', '連用形', 'ます', 'マシ', 'マシ'],\n",
       " ['た', '助動詞', '*', '*', '*', '特殊・タ', '基本形', 'た', 'タ', 'タ'],\n",
       " ['ね', '助詞', '終助詞', '*', '*', '*', '*', 'ね', 'ネ', 'ネ'],\n",
       " ['〜', '記号', '一般', '*', '*', '*', '*', '〜', '〜', '〜'],\n",
       " ['〜', '記号', '一般', '*', '*', '*', '*', '〜', '〜', '〜'],\n",
       " ['。', '記号', '句点', '*', '*', '*', '*', '。', '。', '。'],\n",
       " ['鰹', '名詞', '一般', '*', '*', '*', '*', '鰹', 'カツオ', 'カツオ'],\n",
       " ['の', '助詞', '連体化', '*', '*', '*', '*', 'の', 'ノ', 'ノ'],\n",
       " ['皮', '名詞', '一般', '*', '*', '*', '*', '皮', 'カワ', 'カワ'],\n",
       " ['目', '名詞', '接尾', '一般', '*', '*', '*', '目', 'メ', 'メ'],\n",
       " ['が', '助詞', '格助詞', '一般', '*', '*', '*', 'が', 'ガ', 'ガ'],\n",
       " ['パリッ', '副詞', '助詞類接続', '*', '*', '*', '*', 'パリッ', 'パリッ', 'パリッ'],\n",
       " ['と', '助詞', '格助詞', '一般', '*', '*', '*', 'と', 'ト', 'ト'],\n",
       " ['し', '動詞', '自立', '*', '*', 'サ変・スル', '連用形', 'する', 'シ', 'シ'],\n",
       " ['て', '助詞', '接続助詞', '*', '*', '*', '*', 'て', 'テ', 'テ'],\n",
       " ['コントラスト', '名詞', '一般', '*', '*', '*', '*', 'コントラスト', 'コントラスト', 'コントラスト'],\n",
       " ['が', '助詞', '格助詞', '一般', '*', '*', '*', 'が', 'ガ', 'ガ'],\n",
       " ['素晴らしい', '形容詞', '自立', '*', '*', '形容詞・イ段', '基本形', '素晴らしい', 'スバラシイ', 'スバラシイ'],\n",
       " ['。', '記号', '句点', '*', '*', '*', '*', '。', '。', '。'],\n",
       " ['煮', '動詞', '自立', '*', '*', '一段', '連用形', '煮る', 'ニ', 'ニ'],\n",
       " ['ハマグリ', '名詞', '一般', '*', '*', '*', '*', 'ハマグリ', 'ハマグリ', 'ハマグリ'],\n",
       " ['も', '助詞', '係助詞', '*', '*', '*', '*', 'も', 'モ', 'モ'],\n",
       " ['上品', '名詞', '形容動詞語幹', '*', '*', '*', '*', '上品', 'ジョウヒン', 'ジョーヒン'],\n",
       " ['な', '助動詞', '*', '*', '*', '特殊・ダ', '体言接続', 'だ', 'ナ', 'ナ'],\n",
       " ['味わい', '名詞', '一般', '*', '*', '*', '*', '味わい', 'アジワイ', 'アジワイ'],\n",
       " ['。', '記号', '句点', '*', '*', '*', '*', '。', '。', '。'],\n",
       " ['EOS'],\n",
       " ['']]"
      ]
     },
     "execution_count": 35,
     "metadata": {},
     "output_type": "execute_result"
    }
   ],
   "source": [
    "items"
   ]
  },
  {
   "cell_type": "code",
   "execution_count": 31,
   "metadata": {},
   "outputs": [],
   "source": [
    "words = [item[0] for item in items if (item[0] not in (\"EOS\", \"\", \"t\", \"〜\")) and item[1] == \"名詞\" and item[2] == \"一般\"]"
   ]
  },
  {
   "cell_type": "code",
   "execution_count": 37,
   "metadata": {},
   "outputs": [
    {
     "data": {
      "text/plain": [
       "['鰹', '皮', 'コントラスト', 'ハマグリ', '味わい']"
      ]
     },
     "execution_count": 37,
     "metadata": {},
     "output_type": "execute_result"
    }
   ],
   "source": [
    "words"
   ]
  },
  {
   "cell_type": "code",
   "execution_count": 36,
   "metadata": {},
   "outputs": [
    {
     "name": "stdout",
     "output_type": "stream",
     "text": [
      "鰹: 1\n",
      "皮: 1\n",
      "コントラスト: 1\n",
      "ハマグリ: 1\n",
      "味わい: 1\n"
     ]
    }
   ],
   "source": [
    "counter = Counter(words)\n",
    "for word, count in counter.most_common():\n",
    "    print(f\"{word}: {count}\")"
   ]
  },
  {
   "cell_type": "code",
   "execution_count": 33,
   "metadata": {},
   "outputs": [],
   "source": []
  },
  {
   "cell_type": "code",
   "execution_count": 34,
   "metadata": {},
   "outputs": [
    {
     "data": {
      "text/plain": [
       "'ee'"
      ]
     },
     "execution_count": 34,
     "metadata": {},
     "output_type": "execute_result"
    }
   ],
   "source": []
  },
  {
   "cell_type": "code",
   "execution_count": null,
   "metadata": {},
   "outputs": [],
   "source": []
  }
 ],
 "metadata": {
  "kernelspec": {
   "display_name": "Python 3",
   "language": "python",
   "name": "python3"
  },
  "language_info": {
   "codemirror_mode": {
    "name": "ipython",
    "version": 3
   },
   "file_extension": ".py",
   "mimetype": "text/x-python",
   "name": "python",
   "nbconvert_exporter": "python",
   "pygments_lexer": "ipython3",
   "version": "3.7.3"
  }
 },
 "nbformat": 4,
 "nbformat_minor": 2
}
