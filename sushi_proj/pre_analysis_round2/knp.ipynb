{
 "cells": [
  {
   "cell_type": "code",
   "execution_count": 8,
   "metadata": {},
   "outputs": [],
   "source": [
    "from pyknp import Juman\n",
    "from pyknp import KNP"
   ]
  },
  {
   "cell_type": "code",
   "execution_count": 2,
   "metadata": {},
   "outputs": [],
   "source": [
    "jumanpp = Juman()\n",
    "result = jumanpp.analysis(\"エッチな人\")"
   ]
  },
  {
   "cell_type": "code",
   "execution_count": 7,
   "metadata": {},
   "outputs": [
    {
     "name": "stdout",
     "output_type": "stream",
     "text": [
      "エッチな\n",
      "人\n"
     ]
    }
   ],
   "source": [
    "for mrph in result.mrph_list():\n",
    "    print(mrph.midasi)"
   ]
  },
  {
   "cell_type": "code",
   "execution_count": 10,
   "metadata": {},
   "outputs": [],
   "source": [
    "knp = KNP()"
   ]
  },
  {
   "cell_type": "code",
   "execution_count": 47,
   "metadata": {},
   "outputs": [],
   "source": [
    "result = knp.parse(\"//||||?///ドブレッタリアーノの硬骨\")"
   ]
  },
  {
   "cell_type": "code",
   "execution_count": 44,
   "metadata": {},
   "outputs": [
    {
     "name": "stdout",
     "output_type": "stream",
     "text": [
      "変ぼ\n",
      "おお\n",
      "おおドブレッタリアーノの\n",
      "硬\n",
      "骨\n"
     ]
    }
   ],
   "source": [
    "for bnst in result.bnst_list():\n",
    "    print(bnst.midasi)"
   ]
  },
  {
   "cell_type": "code",
   "execution_count": 45,
   "metadata": {},
   "outputs": [
    {
     "name": "stdout",
     "output_type": "stream",
     "text": [
      "変\n",
      "変\n",
      "変\n",
      "変\n",
      "変\n",
      "変\n",
      "変\n"
     ]
    }
   ],
   "source": [
    "for tag in result.tag_list(): # 各基本句へのアクセス\n",
    "    print(result.tag_list()[0].midasi)"
   ]
  },
  {
   "cell_type": "code",
   "execution_count": 48,
   "metadata": {},
   "outputs": [
    {
     "name": "stdout",
     "output_type": "stream",
     "text": [
      "\tID:0, 見出し://, 係り受けタイプ:D, 親基本句ID:1, 素性:<文節内><係:文節内><文頭><体言><名詞項候補><先行詞候補><正規化代表表記://///>\n",
      "\tID:1, 見出し:|, 係り受けタイプ:D, 親基本句ID:2, 素性:<文節内><係:文節内><体言><名詞項候補><先行詞候補><正規化代表表記:|/|>\n",
      "\tID:2, 見出し:|, 係り受けタイプ:D, 親基本句ID:3, 素性:<文節内><係:文節内><体言><名詞項候補><先行詞候補><正規化代表表記:|/|>\n",
      "\tID:3, 見出し:|, 係り受けタイプ:D, 親基本句ID:4, 素性:<文節内><係:文節内><体言><名詞項候補><先行詞候補><正規化代表表記:|/|>\n",
      "\tID:4, 見出し:|, 係り受けタイプ:D, 親基本句ID:5, 素性:<文節内><係:文節内><体言><名詞項候補><先行詞候補><正規化代表表記:|/|>\n",
      "\tID:5, 見出し:?/, 係り受けタイプ:D, 親基本句ID:6, 素性:<文節内><係:文節内><体言><名詞項候補><先行詞候補><正規化代表表記:?//?/>\n",
      "\tID:6, 見出し://, 係り受けタイプ:D, 親基本句ID:7, 素性:<文節内><係:文節内><体言><名詞項候補><先行詞候補><正規化代表表記://///>\n",
      "\tID:7, 見出し:ドブレッタリアーノの, 係り受けタイプ:D, 親基本句ID:9, 素性:<助詞><連体修飾><体言><係:ノ格><区切:0-4><サ変><名詞項候補><先行詞候補><非用言格解析:動><態:未定><係チ:非用言格解析||用言&&文節内:Ｔ解析格-ヲ><正規化代表表記:ドブレッタリアーノ/ドブレッタリアーノ>\n",
      "\tID:8, 見出し:硬, 係り受けタイプ:D, 親基本句ID:9, 素性:<用言:形><係:NONE><状態述語><正規化代表表記:堅い/かたい><用言代表表記:堅い/かたい><時制-無時制><格解析結果:堅い/かたい:形0:ガ/U/-/-/-/-;ニ/U/-/-/-/-;ト/U/-/-/-/-;デ/U/-/-/-/-;カラ/U/-/-/-/-;ヨリ/U/-/-/-/-;マデ/U/-/-/-/-;時間/U/-/-/-/-;外の関係/U/-/-/-/-;修飾/U/-/-/-/-;ガ２/U/-/-/-/-;ノ/U/-/-/-/-;ニクラベル/U/-/-/-/-;ニタイスル/U/-/-/-/-;トスル/U/-/-/-/-;ニカンスル/U/-/-/-/-;ニツク/U/-/-/-/-;トイウ/U/-/-/-/-;ニヨル/U/-/-/-/-;ニカギル/U/-/-/-/->\n",
      "\tID:9, 見出し:骨, 係り受けタイプ:D, 親基本句ID:-1, 素性:<文末><体言><用言:判><体言止><一文字漢字><レベル:C><区切:5-5><ID:（文末）><裸名詞><提題受:30><主節><状態述語><判定詞><名詞項候補><先行詞候補><正規化代表表記:骨/ほね?骨/こつ><用言代表表記:骨/ほね?骨/こつ><時制-無時制><格解析結果:骨/こつ:判0:ガ/U/-/-/-/-;ニ/U/-/-/-/-;ノ/U/-/-/-/-;外の関係/U/-/-/-/->\n"
     ]
    }
   ],
   "source": [
    "for tag in result.tag_list(): # 各基本句へのアクセス\n",
    "    print(\"\\tID:%d, 見出し:%s, 係り受けタイプ:%s, 親基本句ID:%d, 素性:%s\" \\\n",
    "            % (tag.tag_id, \"\".join(mrph.midasi for mrph in tag.mrph_list()), tag.dpndtype, tag.parent_id, tag.fstring))"
   ]
  },
  {
   "cell_type": "code",
   "execution_count": null,
   "metadata": {},
   "outputs": [],
   "source": []
  }
 ],
 "metadata": {
  "kernelspec": {
   "display_name": "Python 3",
   "language": "python",
   "name": "python3"
  },
  "language_info": {
   "codemirror_mode": {
    "name": "ipython",
    "version": 3
   },
   "file_extension": ".py",
   "mimetype": "text/x-python",
   "name": "python",
   "nbconvert_exporter": "python",
   "pygments_lexer": "ipython3",
   "version": "3.7.3"
  }
 },
 "nbformat": 4,
 "nbformat_minor": 2
}
