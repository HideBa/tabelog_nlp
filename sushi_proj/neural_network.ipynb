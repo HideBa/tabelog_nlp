{
 "cells": [
  {
   "cell_type": "code",
   "execution_count": 3,
   "metadata": {},
   "outputs": [],
   "source": [
    "import chainer"
   ]
  },
  {
   "cell_type": "code",
   "execution_count": 4,
   "metadata": {},
   "outputs": [
    {
     "name": "stdout",
     "output_type": "stream",
     "text": [
      "Platform: Darwin-18.7.0-x86_64-i386-64bit\n",
      "Chainer: 6.5.0\n",
      "ChainerX: Not Available\n",
      "NumPy: 1.16.2\n",
      "CuPy: Not Available\n",
      "iDeep: Not Available\n"
     ]
    }
   ],
   "source": [
    "chainer.print_runtime_info()"
   ]
  },
  {
   "cell_type": "code",
   "execution_count": 5,
   "metadata": {},
   "outputs": [
    {
     "name": "stdout",
     "output_type": "stream",
     "text": [
      "(150, 4)\n",
      "(150,)\n"
     ]
    }
   ],
   "source": [
    "from sklearn.datasets import load_iris\n",
    "x, t = load_iris(return_X_y=True)\n",
    "print(x.shape)\n",
    "print(t.shape)"
   ]
  },
  {
   "cell_type": "code",
   "execution_count": 12,
   "metadata": {},
   "outputs": [
    {
     "data": {
      "text/plain": [
       "array([0, 0, 0, 0, 0, 0, 0, 0, 0, 0, 0, 0, 0, 0, 0, 0, 0, 0, 0, 0, 0, 0,\n",
       "       0, 0, 0, 0, 0, 0, 0, 0, 0, 0, 0, 0, 0, 0, 0, 0, 0, 0, 0, 0, 0, 0,\n",
       "       0, 0, 0, 0, 0, 0, 1, 1, 1, 1, 1, 1, 1, 1, 1, 1, 1, 1, 1, 1, 1, 1,\n",
       "       1, 1, 1, 1, 1, 1, 1, 1, 1, 1, 1, 1, 1, 1, 1, 1, 1, 1, 1, 1, 1, 1,\n",
       "       1, 1, 1, 1, 1, 1, 1, 1, 1, 1, 1, 1, 2, 2, 2, 2, 2, 2, 2, 2, 2, 2,\n",
       "       2, 2, 2, 2, 2, 2, 2, 2, 2, 2, 2, 2, 2, 2, 2, 2, 2, 2, 2, 2, 2, 2,\n",
       "       2, 2, 2, 2, 2, 2, 2, 2, 2, 2, 2, 2, 2, 2, 2, 2, 2, 2], dtype=int32)"
      ]
     },
     "execution_count": 12,
     "metadata": {},
     "output_type": "execute_result"
    }
   ],
   "source": [
    "t"
   ]
  },
  {
   "cell_type": "code",
   "execution_count": 6,
   "metadata": {},
   "outputs": [],
   "source": [
    "x = x.astype(\"float32\")\n",
    "t = t.astype(\"int32\")"
   ]
  },
  {
   "cell_type": "code",
   "execution_count": 7,
   "metadata": {},
   "outputs": [],
   "source": [
    "from sklearn.model_selection import train_test_split\n",
    "x_train_val, x_test, t_train_val, t_test = train_test_split(x,t, test_size=0.3, random_state=0)"
   ]
  },
  {
   "cell_type": "code",
   "execution_count": 8,
   "metadata": {},
   "outputs": [],
   "source": [
    "x_train, x_val, t_train, t_val = train_test_split(x_train_val, t_train_val, test_size=0.3, random_state=0)"
   ]
  },
  {
   "cell_type": "code",
   "execution_count": 9,
   "metadata": {},
   "outputs": [],
   "source": [
    "import chainer.links as L\n",
    "import chainer.functions as F"
   ]
  },
  {
   "cell_type": "code",
   "execution_count": 10,
   "metadata": {},
   "outputs": [],
   "source": [
    "l = L.Linear(3,2)"
   ]
  },
  {
   "cell_type": "code",
   "execution_count": 11,
   "metadata": {},
   "outputs": [],
   "source": [
    "from chainer import Sequential"
   ]
  },
  {
   "cell_type": "code",
   "execution_count": 13,
   "metadata": {},
   "outputs": [],
   "source": [
    "n_input = 4\n",
    "n_hidden = 10\n",
    "n_output = 3\n",
    "\n",
    "net = Sequential(\n",
    "    L.Linear(n_input, n_hidden), F.relu,\n",
    "    L.Linear(n_hidden, n_hidden), F.relu,\n",
    "    L.Linear(n_hidden, n_output)\n",
    ")"
   ]
  },
  {
   "cell_type": "code",
   "execution_count": 14,
   "metadata": {},
   "outputs": [
    {
     "data": {
      "text/plain": [
       "<chainer.optimizers.sgd.SGD at 0xb177737b8>"
      ]
     },
     "execution_count": 14,
     "metadata": {},
     "output_type": "execute_result"
    }
   ],
   "source": [
    "optimizer = chainer.optimizers.SGD(lr=0.01)\n",
    "optimizer.setup(net)"
   ]
  },
  {
   "cell_type": "code",
   "execution_count": 15,
   "metadata": {},
   "outputs": [],
   "source": [
    "n_epoch = 30\n",
    "n_batchsize = 16"
   ]
  },
  {
   "cell_type": "code",
   "execution_count": 16,
   "metadata": {},
   "outputs": [],
   "source": [
    "import numpy as np"
   ]
  },
  {
   "cell_type": "code",
   "execution_count": 26,
   "metadata": {},
   "outputs": [
    {
     "name": "stdout",
     "output_type": "stream",
     "text": [
      "epoch: 0, iteration: 5, loss (train): 0.3274, loss (valid): 0.2468\n",
      "None\n",
      "epoch: 1, iteration: 10, loss (train): 0.3247, loss (valid): 0.2432\n",
      "None\n",
      "epoch: 2, iteration: 15, loss (train): 0.3101, loss (valid): 0.2391\n",
      "None\n",
      "epoch: 3, iteration: 20, loss (train): 0.3427, loss (valid): 0.2584\n",
      "None\n",
      "epoch: 4, iteration: 25, loss (train): 0.3136, loss (valid): 0.2331\n",
      "None\n",
      "epoch: 5, iteration: 30, loss (train): 0.3050, loss (valid): 0.2417\n",
      "None\n",
      "epoch: 6, iteration: 35, loss (train): 0.3181, loss (valid): 0.2277\n",
      "None\n",
      "epoch: 7, iteration: 40, loss (train): 0.3003, loss (valid): 0.2229\n",
      "None\n",
      "epoch: 8, iteration: 45, loss (train): 0.2996, loss (valid): 0.2200\n",
      "None\n",
      "epoch: 9, iteration: 50, loss (train): 0.2781, loss (valid): 0.2167\n",
      "None\n",
      "epoch: 10, iteration: 55, loss (train): 0.2955, loss (valid): 0.2242\n",
      "None\n",
      "epoch: 11, iteration: 60, loss (train): 0.3006, loss (valid): 0.2115\n",
      "None\n",
      "epoch: 12, iteration: 65, loss (train): 0.2796, loss (valid): 0.2092\n",
      "None\n",
      "epoch: 13, iteration: 70, loss (train): 0.2808, loss (valid): 0.2066\n",
      "None\n",
      "epoch: 14, iteration: 75, loss (train): 0.2792, loss (valid): 0.2081\n",
      "None\n",
      "epoch: 15, iteration: 80, loss (train): 0.2520, loss (valid): 0.2123\n",
      "None\n",
      "epoch: 16, iteration: 85, loss (train): 0.2641, loss (valid): 0.2445\n",
      "None\n",
      "epoch: 17, iteration: 90, loss (train): 0.2711, loss (valid): 0.2232\n",
      "None\n",
      "epoch: 18, iteration: 95, loss (train): 0.2741, loss (valid): 0.1913\n",
      "None\n",
      "epoch: 19, iteration: 100, loss (train): 0.2544, loss (valid): 0.1905\n",
      "None\n",
      "epoch: 20, iteration: 105, loss (train): 0.2525, loss (valid): 0.1896\n",
      "None\n",
      "epoch: 21, iteration: 110, loss (train): 0.2868, loss (valid): 0.1870\n",
      "None\n",
      "epoch: 22, iteration: 115, loss (train): 0.2441, loss (valid): 0.1819\n",
      "None\n",
      "epoch: 23, iteration: 120, loss (train): 0.2590, loss (valid): 0.1862\n",
      "None\n",
      "epoch: 24, iteration: 125, loss (train): 0.2481, loss (valid): 0.1776\n",
      "None\n",
      "epoch: 25, iteration: 130, loss (train): 0.2447, loss (valid): 0.1894\n",
      "None\n",
      "epoch: 26, iteration: 135, loss (train): 0.2247, loss (valid): 0.1790\n",
      "None\n",
      "epoch: 27, iteration: 140, loss (train): 0.2502, loss (valid): 0.1700\n",
      "None\n",
      "epoch: 28, iteration: 145, loss (train): 0.2416, loss (valid): 0.1714\n",
      "None\n",
      "epoch: 29, iteration: 150, loss (train): 0.2534, loss (valid): 0.2198\n",
      "None\n"
     ]
    }
   ],
   "source": [
    "iteration = 0\n",
    "results_train = {\n",
    "    \"loss\":[],\n",
    "    \"accuracy\":[]\n",
    "}\n",
    "results_valid = {\n",
    "    \"loss\":[],\n",
    "    \"accuracy\":[]\n",
    "}\n",
    "\n",
    "for epoch in range(n_epoch):\n",
    "    order = np.random.permutation(range(len(x_train)))\n",
    "    \n",
    "    loss_list = []\n",
    "    accuracy_list = []\n",
    "    \n",
    "    for i in range(0, len(order), n_batchsize):\n",
    "        index = order[i:i+n_batchsize]\n",
    "        x_train_batch = x_train[index,:]\n",
    "        t_train_batch = t_train[index]\n",
    "        y_train_batch = net(x_train_batch)\n",
    "        \n",
    "        loss_train_batch = F.softmax_cross_entropy(y_train_batch, t_train_batch)\n",
    "        accuracy_train_batch = F.accuracy(y_train_batch, t_train_batch)\n",
    "        \n",
    "        loss_list.append(loss_train_batch.array)\n",
    "        accuracy_list.append(accuracy_train_batch.array)\n",
    "        \n",
    "        net.cleargrads()\n",
    "        loss_train_batch.backward()\n",
    "        \n",
    "        optimizer.update()\n",
    "        \n",
    "        iteration += 1\n",
    "    \n",
    "    loss_train = np.mean(loss_list)\n",
    "    accuracy_train = np.mean(accuracy_list)\n",
    "    \n",
    "    with chainer.using_config(\"train\", False), chainer.using_config(\"enable_backprop\", False):\n",
    "        y_val = net(x_val)\n",
    "    \n",
    "    loss_val = F.softmax_cross_entropy(y_val, t_val)\n",
    "    accuracy_val = F.accuracy(y_val, t_val)\n",
    "    \n",
    "    print(print('epoch: {}, iteration: {}, loss (train): {:.4f}, loss (valid): {:.4f}'.format(\n",
    "        epoch, iteration, loss_train, loss_val.array)))\n",
    "    results_train['loss'] .append(loss_train)\n",
    "    results_train['accuracy'] .append(accuracy_train)\n",
    "    results_valid['loss'].append(loss_val.array)\n",
    "    results_valid['accuracy'].append(accuracy_val.array)"
   ]
  },
  {
   "cell_type": "code",
   "execution_count": 23,
   "metadata": {},
   "outputs": [],
   "source": [
    "%matplotlib inline\n",
    "import matplotlib.pyplot as plt"
   ]
  },
  {
   "cell_type": "code",
   "execution_count": 27,
   "metadata": {},
   "outputs": [
    {
     "data": {
      "text/plain": [
       "<matplotlib.legend.Legend at 0x1a197a27b8>"
      ]
     },
     "execution_count": 27,
     "metadata": {},
     "output_type": "execute_result"
    },
    {
     "data": {
      "image/png": "[encoded data removed]",
      "text/plain": [
       "<Figure size 432x288 with 1 Axes>"
      ]
     },
     "metadata": {
      "needs_background": "light"
     },
     "output_type": "display_data"
    }
   ],
   "source": [
    "plt.plot(results_train['loss'], label='train')  # label で凡例の設定\n",
    "plt.plot(results_valid['loss'], label='valid')  # label で凡例の設定\n",
    "plt.legend()  # 凡例の表示"
   ]
  },
  {
   "cell_type": "code",
   "execution_count": null,
   "metadata": {},
   "outputs": [],
   "source": []
  }
 ],
 "metadata": {
  "kernelspec": {
   "display_name": "Python 3",
   "language": "python",
   "name": "python3"
  },
  "language_info": {
   "codemirror_mode": {
    "name": "ipython",
    "version": 3
   },
   "file_extension": ".py",
   "mimetype": "text/x-python",
   "name": "python",
   "nbconvert_exporter": "python",
   "pygments_lexer": "ipython3",
   "version": "3.7.3"
  }
 },
 "nbformat": 4,
 "nbformat_minor": 2
}
