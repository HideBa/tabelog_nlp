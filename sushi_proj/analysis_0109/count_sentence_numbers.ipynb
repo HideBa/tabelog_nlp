{
 "cells": [
  {
   "cell_type": "code",
   "execution_count": 1,
   "metadata": {},
   "outputs": [],
   "source": [
    "import pandas as pd"
   ]
  },
  {
   "cell_type": "code",
   "execution_count": 5,
   "metadata": {},
   "outputs": [],
   "source": [
    "import MeCab"
   ]
  },
  {
   "cell_type": "code",
   "execution_count": 11,
   "metadata": {},
   "outputs": [],
   "source": [
    "from collections import Counter, defaultdict"
   ]
  },
  {
   "cell_type": "code",
   "execution_count": 6,
   "metadata": {},
   "outputs": [
    {
     "data": {
      "text/plain": [
       "'EOS\\n'"
      ]
     },
     "execution_count": 6,
     "metadata": {},
     "output_type": "execute_result"
    }
   ],
   "source": [
    "tagger = MeCab.Tagger(\"-Ochasen -d /usr/local/lib/mecab/dic/mecab-ipadic-neologd -u /Users/yuki/foo/bar/user_dic2.dic\")\n",
    "tagger.parse(\"\")"
   ]
  },
  {
   "cell_type": "code",
   "execution_count": 2,
   "metadata": {},
   "outputs": [],
   "source": [
    "lunch_file = [\"../pretest_sushitsuu_lunch.csv\",\n",
    "              \"../pretest_sushiichi_lunch.csv\",\n",
    "              \"../pretest_sawada_lunch.csv\",\n",
    "              \"../pretest_matsukan_lunch.csv\",\n",
    "              \"../pretest_kiyoda_lunch.csv\",\n",
    "              \"../pretest_imamura_lunch.csv\",\n",
    "              \"../pretest_hatsune_lunch.csv\",\n",
    "              \"../pretest_mitani_lunch.csv\",\n",
    "              ]"
   ]
  },
  {
   "cell_type": "code",
   "execution_count": 3,
   "metadata": {},
   "outputs": [],
   "source": [
    "dinner_file = [\"../pretest_sushitsuu_dinner.csv\",\n",
    "              \"../pretest_sushiichi_dinner.csv\",\n",
    "              \"../pretest_sawada_dinner.csv\",\n",
    "              \"../pretest_matsukan_dinner.csv\",\n",
    "              \"../pretest_kiyoda_dinner.csv\",\n",
    "              \"../pretest_imamura_dinner.csv\",\n",
    "              \"../pretest_hatsune_dinner.csv\",\n",
    "               \"../pretest_aozora_dinner.csv\",\n",
    "               \"../pretest_mitani_dinner.csv\"\n",
    "              ]"
   ]
  },
  {
   "cell_type": "code",
   "execution_count": 12,
   "metadata": {},
   "outputs": [],
   "source": [
    "lunch = defaultdict(int)\n",
    "for file in lunch_file:\n",
    "    name = file.replace(\"../pretest_\", \"\").replace(\".csv\", \"\")\n",
    "    df = pd.read_csv(file)\n",
    "    n = 0\n",
    "    for review in df[\"lunch_review\"]:\n",
    "        n += len(review.split(\"。\"))\n",
    "        lunch[name] = n"
   ]
  },
  {
   "cell_type": "code",
   "execution_count": 15,
   "metadata": {},
   "outputs": [],
   "source": [
    "dinner = defaultdict(int)\n",
    "for file in dinner_file:\n",
    "    name = file.replace(\"../pretest_\", \"\").replace(\".csv\", \"\")\n",
    "    df = pd.read_csv(file)\n",
    "    n = 0\n",
    "    for review in df[\"dinner_review\"]:\n",
    "        n += len(review.split(\"。\"))\n",
    "        dinner[name] = n"
   ]
  },
  {
   "cell_type": "code",
   "execution_count": 13,
   "metadata": {},
   "outputs": [
    {
     "data": {
      "text/plain": [
       "defaultdict(int,\n",
       "            {'sushitsuu_lunch': 2295,\n",
       "             'sushiichi_lunch': 1034,\n",
       "             'sawada_lunch': 2097,\n",
       "             'matsukan_lunch': 125,\n",
       "             'kiyoda_lunch': 247,\n",
       "             'imamura_lunch': 1456,\n",
       "             'hatsune_lunch': 1203,\n",
       "             'mitani_lunch': 1832})"
      ]
     },
     "execution_count": 13,
     "metadata": {},
     "output_type": "execute_result"
    }
   ],
   "source": [
    "lunch"
   ]
  },
  {
   "cell_type": "code",
   "execution_count": 16,
   "metadata": {},
   "outputs": [
    {
     "data": {
      "text/plain": [
       "defaultdict(int,\n",
       "            {'sushitsuu_dinner': 2024,\n",
       "             'sushiichi_dinner': 643,\n",
       "             'sawada_dinner': 2063,\n",
       "             'matsukan_dinner': 555,\n",
       "             'kiyoda_dinner': 1089,\n",
       "             'imamura_dinner': 1927,\n",
       "             'hatsune_dinner': 6970,\n",
       "             'aozora_dinner': 1366,\n",
       "             'mitani_dinner': 1968})"
      ]
     },
     "execution_count": 16,
     "metadata": {},
     "output_type": "execute_result"
    }
   ],
   "source": [
    "dinner"
   ]
  },
  {
   "cell_type": "code",
   "execution_count": 30,
   "metadata": {},
   "outputs": [],
   "source": [
    "l = []\n",
    "for lu in lunch:\n",
    "    ll = [lu, lunch[lu]]\n",
    "    l.append(ll)"
   ]
  },
  {
   "cell_type": "code",
   "execution_count": 31,
   "metadata": {},
   "outputs": [],
   "source": [
    "df_lunch = pd.DataFrame(l, columns=[\"店名\", \"文の数\"])"
   ]
  },
  {
   "cell_type": "code",
   "execution_count": 32,
   "metadata": {},
   "outputs": [],
   "source": [
    "df_lunch.to_csv(\"lunch.csv\",index=False, encoding=\"SHIFT-JIS\")"
   ]
  },
  {
   "cell_type": "code",
   "execution_count": 27,
   "metadata": {},
   "outputs": [],
   "source": [
    "df_dinner = pd.DataFrame(l, columns=[\"店名\", \"文の数\"])"
   ]
  },
  {
   "cell_type": "code",
   "execution_count": 29,
   "metadata": {},
   "outputs": [],
   "source": [
    "df_dinner.to_csv(\"dinner.csv\", index=False, encoding=\"SHIFT-JIS\")"
   ]
  },
  {
   "cell_type": "code",
   "execution_count": null,
   "metadata": {},
   "outputs": [],
   "source": []
  }
 ],
 "metadata": {
  "kernelspec": {
   "display_name": "Python 3",
   "language": "python",
   "name": "python3"
  },
  "language_info": {
   "codemirror_mode": {
    "name": "ipython",
    "version": 3
   },
   "file_extension": ".py",
   "mimetype": "text/x-python",
   "name": "python",
   "nbconvert_exporter": "python",
   "pygments_lexer": "ipython3",
   "version": "3.7.3"
  }
 },
 "nbformat": 4,
 "nbformat_minor": 2
}
