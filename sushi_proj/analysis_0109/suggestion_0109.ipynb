{
 "cells": [
  {
   "cell_type": "code",
   "execution_count": 1,
   "metadata": {},
   "outputs": [],
   "source": [
    "import pandas as pd\n",
    "import MeCab\n",
    "from collections import Counter, defaultdict"
   ]
  },
  {
   "cell_type": "code",
   "execution_count": 2,
   "metadata": {},
   "outputs": [
    {
     "data": {
      "text/plain": [
       "'EOS\\n'"
      ]
     },
     "execution_count": 2,
     "metadata": {},
     "output_type": "execute_result"
    }
   ],
   "source": [
    "tagger = MeCab.Tagger(\"-Ochasen -d /usr/local/lib/mecab/dic/mecab-ipadic-neologd -u /Users/yuki/foo/bar/user_dic2.dic\")\n",
    "tagger.parse(\"\")"
   ]
  },
  {
   "cell_type": "code",
   "execution_count": 3,
   "metadata": {},
   "outputs": [],
   "source": [
    "stop_words = [\"♦\",\"▪\",\"⚪\",\"・\",\"◾\",]"
   ]
  },
  {
   "cell_type": "code",
   "execution_count": 4,
   "metadata": {},
   "outputs": [],
   "source": [
    "store_file = [\"../pretest_kiyoda_dinner.csv\",\n",
    "              \"../pretest_aozora_dinner.csv\",\n",
    "             \"../pretest_mitani_lunch.csv\",\n",
    "             \"../pretest_mitani_dinner.csv\"]"
   ]
  },
  {
   "cell_type": "code",
   "execution_count": 5,
   "metadata": {},
   "outputs": [],
   "source": [
    "lunch_file = [\"../pretest_sushitsuu_lunch.csv\",\n",
    "              \"../pretest_sushiichi_lunch.csv\",\n",
    "              \"../pretest_sawada_lunch.csv\",\n",
    "              \"../pretest_matsukan_lunch.csv\",\n",
    "              \"../pretest_kiyoda_lunch.csv\",\n",
    "              \"../pretest_imamura_lunch.csv\",\n",
    "              \"../pretest_hatsune_lunch.csv\",\n",
    "              \"../pretest_mitani_lunch.csv\"\n",
    "              ]\n",
    "dinner_file = [\"../pretest_sushitsuu_dinner.csv\",\n",
    "              \"../pretest_sushiichi_dinner.csv\",\n",
    "              \"../pretest_sawada_dinner.csv\",\n",
    "              \"../pretest_matsukan_dinner.csv\",\n",
    "              \"../pretest_aozora_dinner.csv\",\n",
    "              \"../pretest_imamura_dinner.csv\",\n",
    "              \"../pretest_hatsune_dinner.csv\",\n",
    "               \"../pretest_mitani_dinner.csv\"\n",
    "              ]"
   ]
  },
  {
   "cell_type": "code",
   "execution_count": 6,
   "metadata": {},
   "outputs": [],
   "source": [
    "akazu = [\"赤酢\"]\n",
    "nigiri = [\"握り\",\"にぎり\",\"ニギリ\"]\n",
    "shari = [\"シャリ\",\"コメ\",\"米\",\"ライス\",\"こめ\",\"しゃり\"]\n",
    "maguro = [\"まぐろ\",\"マグロ\",\"鮪\",\"赤身\",\"トロ\",\"とろ\"]\n",
    "wine = [\"ワイン\"]"
   ]
  },
  {
   "cell_type": "code",
   "execution_count": 7,
   "metadata": {},
   "outputs": [],
   "source": [
    "akazu_ad = [[\"強い\",\"強め\",\"きつい\",\"つよい\",\"つよめ\",\"効く\"],\n",
    "        [\"あっさり\",\"シンプル\"],\n",
    "        [\"酸っぱい\",\"すっぱい\",\"酸味\"]]\n",
    "\n",
    "nigiri_ad = [[\"大きい\",\"でかい\",\"大きめ\",\"ビッグ\"],\n",
    "            [\"小さい\",\"小ぶり\",\"小さめ\"],\n",
    "            [\"創作\",\"奇想天外\",\"工夫\",\"独特\",\"意外\",\"面白い\",\"おもしろい\"]]\n",
    "\n",
    "shari_ad = [[\"大きい\",\"でかい\",\"大きめ\",\"ビッグ\"],\n",
    "           [\"小さい\",\"小ぶり\",\"小さめ\"],\n",
    "           [\"パラパラ\",\"少ない\"],\n",
    "           [\"塩気\",\"塩\",\"しょっぱい\"],\n",
    "           [\"甘い\",\"甘め\",\"あまい\",\"あまめ\",\"砂糖\"],\n",
    "           [\"酢\",\"米酢\",\"白酢\"]]\n",
    "\n",
    "maguro_ad = [[\"うまい\",\"美味\",\"美味しい\",\"おいしい\",\"良い\",\"よい\",\"いい\"],\n",
    "            [\"臭い\",\"くさい\",\"生臭い\"],\n",
    "            [\"あっさり\"],\n",
    "            [\"こってり\"],\n",
    "            [\"とろける\",\"消える\"],\n",
    "            [\"酸味\"],\n",
    "            [\"熟成\"]]\n",
    "\n",
    "wine_ad = [[\"多い\",\"豊富\",\"品揃え\",\"品ぞろえ\",\"取り揃え\"],\n",
    "            [\"相性\",\"マリアージュ\", \"合う\"]]"
   ]
  },
  {
   "cell_type": "code",
   "execution_count": 8,
   "metadata": {},
   "outputs": [],
   "source": [
    "features = [akazu, nigiri, shari, maguro, wine]\n",
    "features_ad = [akazu_ad, nigiri_ad, shari_ad, maguro_ad, wine_ad]"
   ]
  },
  {
   "cell_type": "code",
   "execution_count": 9,
   "metadata": {},
   "outputs": [],
   "source": [
    "def tokenize_ja(text):\n",
    "    node = tagger.parseToNode(str(text)) #分かち書きしたのが入っている。イテレータ\n",
    "    while node:\n",
    "        surface = node.surface.lower() #surfaceは単語の見た目　例：トろ\n",
    "        feature = node.feature.split(\",\")\n",
    "        hinshi = feature[0]\n",
    "        genkei = feature[6]\n",
    "        if surface not in stop_words and surface != \"\" and hinshi in [\"形容詞\", \"動詞\", \"副詞\", \"助動詞\", \"接続詞\", \"連体詞\", \"感動詞\", \"接頭詞\"]:\n",
    "            yield genkei\n",
    "        elif surface not in stop_words and surface != \"\" and hinshi == \"名詞\":\n",
    "            yield surface\n",
    "        node = node.next"
   ]
  },
  {
   "cell_type": "code",
   "execution_count": 10,
   "metadata": {},
   "outputs": [],
   "source": [
    "def tokenize(content):\n",
    "    return [token for token in tokenize_ja(content)]"
   ]
  },
  {
   "cell_type": "code",
   "execution_count": 11,
   "metadata": {},
   "outputs": [
    {
     "data": {
      "text/plain": [
       "'\\nall_review_word_lunch = defaultdict(int)\\nall_review_word_dinner  =defaultdict(int)\\nnum_word_lunch = 0\\nnum_word_dinner = 0\\nall_dinner_pare = defaultdict(int)\\nall_lunch_pare = defaultdict(int)\\nfor file in lunch_file:\\n    df=pd.read_csv(file)\\n    for review in df[\"lunch_review\"]:\\n        li=tokenize(review)\\n        for l in li:\\n            all_review_word_lunch[l] += 1 #その単語の登場回数を1加える\\n            num_word_lunch += 1\\nfor file in dinner_file:\\n    df=pd.read_csv(file)\\n    for review in df[\"dinner_review\"]:\\n        li=tokenize(review)\\n        for l in li:\\n            all_review_word_dinner[l] += 1 #その単語の登場回数を1加える\\n            num_word_dinner += 1\\n'"
      ]
     },
     "execution_count": 11,
     "metadata": {},
     "output_type": "execute_result"
    }
   ],
   "source": [
    "\"\"\"\n",
    "all_review_word_lunch = defaultdict(int)\n",
    "all_review_word_dinner  =defaultdict(int)\n",
    "num_word_lunch = 0\n",
    "num_word_dinner = 0\n",
    "all_dinner_pare = defaultdict(int)\n",
    "all_lunch_pare = defaultdict(int)\n",
    "for file in lunch_file:\n",
    "    df=pd.read_csv(file)\n",
    "    for review in df[\"lunch_review\"]:\n",
    "        li=tokenize(review)\n",
    "        for l in li:\n",
    "            all_review_word_lunch[l] += 1 #その単語の登場回数を1加える\n",
    "            num_word_lunch += 1\n",
    "for file in dinner_file:\n",
    "    df=pd.read_csv(file)\n",
    "    for review in df[\"dinner_review\"]:\n",
    "        li=tokenize(review)\n",
    "        for l in li:\n",
    "            all_review_word_dinner[l] += 1 #その単語の登場回数を1加える\n",
    "            num_word_dinner += 1\n",
    "\"\"\""
   ]
  },
  {
   "cell_type": "code",
   "execution_count": 12,
   "metadata": {},
   "outputs": [],
   "source": [
    "all_review_word_lunch = defaultdict(int)\n",
    "all_review_word_dinner  =defaultdict(int)\n",
    "num_word_lunch = 0\n",
    "num_word_dinner = 0\n",
    "all_lunch_pare = defaultdict(int)\n",
    "all_dinner_pare = defaultdict(int)\n",
    "for file in lunch_file:\n",
    "    df=pd.read_csv(file)\n",
    "    for review in df[\"lunch_review\"]:\n",
    "        for sentence in review.split(\"。\"):\n",
    "            t=tokenize(sentence)\n",
    "            for tt in t:\n",
    "                    num_word_lunch += 1\n",
    "            for i,feature in enumerate(features):\n",
    "                for tt in t:\n",
    "                    if tt in feature:\n",
    "                        all_review_word_lunch[feature[0]] += 1\n",
    "                if len(list(set(feature) & set(t))) != 0:\n",
    "                    for feature_ad in features_ad[i]:\n",
    "                        li = list(set(feature_ad) & set(t))\n",
    "                        if len(li) != 0:\n",
    "                            for ii in li:\n",
    "                                all_lunch_pare[(feature[0],feature_ad[0])] += 1\n",
    "\n",
    "for file in dinner_file:\n",
    "    df=pd.read_csv(file)\n",
    "    for review in df[\"dinner_review\"]:\n",
    "        for sentence in review.split(\"。\"):\n",
    "            t=tokenize(sentence)\n",
    "            for tt in t:\n",
    "                    num_word_dinner += 1\n",
    "                    \n",
    "            for i,feature in enumerate(features):\n",
    "                for tt in t:\n",
    "                    if tt in feature:\n",
    "                        all_review_word_dinner[feature[0]] += 1\n",
    "                if len(list(set(feature) & set(t))) != 0:\n",
    "                    for feature_ad in features_ad[i]:\n",
    "                        li = list(set(feature_ad) & set(t))\n",
    "                        if len(li) != 0:\n",
    "                            for ii in li:\n",
    "                                all_dinner_pare[(feature[0],feature_ad[0])] += 1"
   ]
  },
  {
   "cell_type": "code",
   "execution_count": 13,
   "metadata": {},
   "outputs": [
    {
     "data": {
      "text/plain": [
       "defaultdict(int, {'シャリ': 496, 'まぐろ': 855, '握り': 689, '赤酢': 17, 'ワイン': 96})"
      ]
     },
     "execution_count": 13,
     "metadata": {},
     "output_type": "execute_result"
    }
   ],
   "source": [
    "all_review_word_lunch"
   ]
  },
  {
   "cell_type": "code",
   "execution_count": 14,
   "metadata": {},
   "outputs": [],
   "source": [
    "df = pd.read_csv(store_file[0])\n",
    "pare = defaultdict(int)\n",
    "n = 0\n",
    "dic = defaultdict(int)\n",
    "for review in df[\"dinner_review\"]:\n",
    "    sentences = review.split(\"。\")\n",
    "    #一つのレビューを文単位に分割\n",
    "    for s in sentences:\n",
    "        t = tokenize(s)\n",
    "        n += len(t)\n",
    "        for i,feature in enumerate(features):\n",
    "            for tt in t:\n",
    "                if tt in feature:\n",
    "                    dic[feature[0]] += 1\n",
    "            if len(list(set(feature) & set(t))) != 0:\n",
    "                for feature_ad in features_ad[i]:\n",
    "                    li = list(set(feature_ad) & set(t))\n",
    "                    if len(li) != 0:\n",
    "                        for ii in li:\n",
    "                            pare[(feature[0],feature_ad[0])] += 1"
   ]
  },
  {
   "cell_type": "code",
   "execution_count": 15,
   "metadata": {},
   "outputs": [],
   "source": [
    "dic2 = defaultdict(int)\n",
    "word_times = 0 #全単語数\n",
    "for review in df[\"dinner_review\"]:\n",
    "    token_list = tokenize(review) #各レビューを形態素解析\n",
    "    for token in token_list:\n",
    "        word_times += 1\n",
    "        if (token in akazu) or (token in nigiri) or \\\n",
    "        (token in shari) or (token in maguro):\n",
    "            dic2[token] += 1"
   ]
  },
  {
   "cell_type": "code",
   "execution_count": 16,
   "metadata": {},
   "outputs": [],
   "source": [
    "l = []\n",
    "for i, feature in enumerate(features):\n",
    "    ll = [feature[0]+ \" \" + str(dic[feature[0]]) + \"回\"]\n",
    "    for feature_ad in features_ad[i]:\n",
    "        ll.append(feature_ad[0]+ \" ・\"+str(pare[(feature[0], feature_ad[0])])+\"回\" + \"  ・ \" + \\\n",
    "                  str(int(100*((pare[(feature[0], feature_ad[0])]/(dic[feature[0]]+1))/((all_dinner_pare[(feature[0], feature_ad[0])]+1)/(all_review_word_dinner[feature[0]]+1))))/100)+\"倍\")\n",
    "    l.append(ll)"
   ]
  },
  {
   "cell_type": "code",
   "execution_count": 17,
   "metadata": {},
   "outputs": [
    {
     "data": {
      "text/plain": [
       "[['赤酢 0回', '強い ・0回  ・ 0.0倍', 'あっさり ・0回  ・ 0.0倍', '酸っぱい ・0回  ・ 0.0倍'],\n",
       " ['握り 73回', '大きい ・1回  ・ 0.33倍', '小さい ・5回  ・ 2.87倍', '創作 ・0回  ・ 0.0倍'],\n",
       " ['シャリ 27回',\n",
       "  '大きい ・0回  ・ 0.0倍',\n",
       "  '小さい ・1回  ・ 1.12倍',\n",
       "  'パラパラ ・1回  ・ 4.08倍',\n",
       "  '塩気 ・1回  ・ 0.46倍',\n",
       "  '甘い ・0回  ・ 0.0倍',\n",
       "  '酢 ・1回  ・ 0.16倍'],\n",
       " ['まぐろ 222回',\n",
       "  'うまい ・33回  ・ 0.97倍',\n",
       "  '臭い ・0回  ・ 0.0倍',\n",
       "  'あっさり ・0回  ・ 0.0倍',\n",
       "  'こってり ・0回  ・ 0.0倍',\n",
       "  'とろける ・2回  ・ 0.62倍',\n",
       "  '酸味 ・4回  ・ 1.48倍',\n",
       "  '熟成 ・8回  ・ 0.89倍'],\n",
       " ['ワイン 0回', '多い ・0回  ・ 0.0倍', '相性 ・0回  ・ 0.0倍']]"
      ]
     },
     "execution_count": 17,
     "metadata": {},
     "output_type": "execute_result"
    }
   ],
   "source": [
    "l"
   ]
  },
  {
   "cell_type": "code",
   "execution_count": 20,
   "metadata": {},
   "outputs": [],
   "source": [
    "columns = [\"軸とその登場回数\",\"修飾語・その登場回数・他の店に比べて何倍か\",\"修飾語・その登場回数・他の店に比べて何倍か\",\n",
    "           \"修飾語・その登場回数・他の店に比べて何倍か\",\"修飾語・その登場回数・他の店に比べて何倍か\",\n",
    "          \"修飾語・その登場回数・他の店に比べて何倍か\",\"修飾語・その登場回数・他の店に比べて何倍か\",\n",
    "          \"修飾語・その登場回数・他の店に比べて何倍か\",]"
   ]
  },
  {
   "cell_type": "code",
   "execution_count": 21,
   "metadata": {},
   "outputs": [],
   "source": [
    "df1 = pd.DataFrame(l, columns=columns)"
   ]
  },
  {
   "cell_type": "code",
   "execution_count": 22,
   "metadata": {},
   "outputs": [
    {
     "data": {
      "text/html": [
       "<div>\n",
       "<style scoped>\n",
       "    .dataframe tbody tr th:only-of-type {\n",
       "        vertical-align: middle;\n",
       "    }\n",
       "\n",
       "    .dataframe tbody tr th {\n",
       "        vertical-align: top;\n",
       "    }\n",
       "\n",
       "    .dataframe thead th {\n",
       "        text-align: right;\n",
       "    }\n",
       "</style>\n",
       "<table border=\"1\" class=\"dataframe\">\n",
       "  <thead>\n",
       "    <tr style=\"text-align: right;\">\n",
       "      <th></th>\n",
       "      <th>軸とその登場回数</th>\n",
       "      <th>修飾語・その登場回数・他の店に比べて何倍か</th>\n",
       "      <th>修飾語・その登場回数・他の店に比べて何倍か</th>\n",
       "      <th>修飾語・その登場回数・他の店に比べて何倍か</th>\n",
       "      <th>修飾語・その登場回数・他の店に比べて何倍か</th>\n",
       "      <th>修飾語・その登場回数・他の店に比べて何倍か</th>\n",
       "      <th>修飾語・その登場回数・他の店に比べて何倍か</th>\n",
       "      <th>修飾語・その登場回数・他の店に比べて何倍か</th>\n",
       "    </tr>\n",
       "  </thead>\n",
       "  <tbody>\n",
       "    <tr>\n",
       "      <th>0</th>\n",
       "      <td>赤酢 0回</td>\n",
       "      <td>強い ・0回  ・ 0.0倍</td>\n",
       "      <td>あっさり ・0回  ・ 0.0倍</td>\n",
       "      <td>酸っぱい ・0回  ・ 0.0倍</td>\n",
       "      <td>None</td>\n",
       "      <td>None</td>\n",
       "      <td>None</td>\n",
       "      <td>None</td>\n",
       "    </tr>\n",
       "    <tr>\n",
       "      <th>1</th>\n",
       "      <td>握り 73回</td>\n",
       "      <td>大きい ・1回  ・ 0.33倍</td>\n",
       "      <td>小さい ・5回  ・ 2.87倍</td>\n",
       "      <td>創作 ・0回  ・ 0.0倍</td>\n",
       "      <td>None</td>\n",
       "      <td>None</td>\n",
       "      <td>None</td>\n",
       "      <td>None</td>\n",
       "    </tr>\n",
       "    <tr>\n",
       "      <th>2</th>\n",
       "      <td>シャリ 27回</td>\n",
       "      <td>大きい ・0回  ・ 0.0倍</td>\n",
       "      <td>小さい ・1回  ・ 1.12倍</td>\n",
       "      <td>パラパラ ・1回  ・ 4.08倍</td>\n",
       "      <td>塩気 ・1回  ・ 0.46倍</td>\n",
       "      <td>甘い ・0回  ・ 0.0倍</td>\n",
       "      <td>酢 ・1回  ・ 0.16倍</td>\n",
       "      <td>None</td>\n",
       "    </tr>\n",
       "    <tr>\n",
       "      <th>3</th>\n",
       "      <td>まぐろ 222回</td>\n",
       "      <td>うまい ・33回  ・ 0.97倍</td>\n",
       "      <td>臭い ・0回  ・ 0.0倍</td>\n",
       "      <td>あっさり ・0回  ・ 0.0倍</td>\n",
       "      <td>こってり ・0回  ・ 0.0倍</td>\n",
       "      <td>とろける ・2回  ・ 0.62倍</td>\n",
       "      <td>酸味 ・4回  ・ 1.48倍</td>\n",
       "      <td>熟成 ・8回  ・ 0.89倍</td>\n",
       "    </tr>\n",
       "    <tr>\n",
       "      <th>4</th>\n",
       "      <td>ワイン 0回</td>\n",
       "      <td>多い ・0回  ・ 0.0倍</td>\n",
       "      <td>相性 ・0回  ・ 0.0倍</td>\n",
       "      <td>None</td>\n",
       "      <td>None</td>\n",
       "      <td>None</td>\n",
       "      <td>None</td>\n",
       "      <td>None</td>\n",
       "    </tr>\n",
       "  </tbody>\n",
       "</table>\n",
       "</div>"
      ],
      "text/plain": [
       "   軸とその登場回数 修飾語・その登場回数・他の店に比べて何倍か 修飾語・その登場回数・他の店に比べて何倍か 修飾語・その登場回数・他の店に比べて何倍か  \\\n",
       "0     赤酢 0回        強い ・0回  ・ 0.0倍      あっさり ・0回  ・ 0.0倍      酸っぱい ・0回  ・ 0.0倍   \n",
       "1    握り 73回      大きい ・1回  ・ 0.33倍      小さい ・5回  ・ 2.87倍        創作 ・0回  ・ 0.0倍   \n",
       "2   シャリ 27回       大きい ・0回  ・ 0.0倍      小さい ・1回  ・ 1.12倍     パラパラ ・1回  ・ 4.08倍   \n",
       "3  まぐろ 222回     うまい ・33回  ・ 0.97倍        臭い ・0回  ・ 0.0倍      あっさり ・0回  ・ 0.0倍   \n",
       "4    ワイン 0回        多い ・0回  ・ 0.0倍        相性 ・0回  ・ 0.0倍                  None   \n",
       "\n",
       "  修飾語・その登場回数・他の店に比べて何倍か 修飾語・その登場回数・他の店に比べて何倍か 修飾語・その登場回数・他の店に比べて何倍か  \\\n",
       "0                  None                  None                  None   \n",
       "1                  None                  None                  None   \n",
       "2       塩気 ・1回  ・ 0.46倍        甘い ・0回  ・ 0.0倍        酢 ・1回  ・ 0.16倍   \n",
       "3      こってり ・0回  ・ 0.0倍     とろける ・2回  ・ 0.62倍       酸味 ・4回  ・ 1.48倍   \n",
       "4                  None                  None                  None   \n",
       "\n",
       "  修飾語・その登場回数・他の店に比べて何倍か  \n",
       "0                  None  \n",
       "1                  None  \n",
       "2                  None  \n",
       "3       熟成 ・8回  ・ 0.89倍  \n",
       "4                  None  "
      ]
     },
     "execution_count": 22,
     "metadata": {},
     "output_type": "execute_result"
    }
   ],
   "source": [
    "df1"
   ]
  },
  {
   "cell_type": "code",
   "execution_count": null,
   "metadata": {},
   "outputs": [],
   "source": [
    "all_dinner_pare"
   ]
  },
  {
   "cell_type": "code",
   "execution_count": null,
   "metadata": {},
   "outputs": [],
   "source": [
    "all_review_word_dinner"
   ]
  },
  {
   "cell_type": "code",
   "execution_count": null,
   "metadata": {},
   "outputs": [],
   "source": [
    "df1.to_csv(\"kiyoda_dinner_teian.csv\", index=False, encoding=\"SHIFT-JIS\")"
   ]
  },
  {
   "cell_type": "code",
   "execution_count": null,
   "metadata": {},
   "outputs": [],
   "source": [
    "dic"
   ]
  },
  {
   "cell_type": "code",
   "execution_count": null,
   "metadata": {},
   "outputs": [],
   "source": []
  }
 ],
 "metadata": {
  "kernelspec": {
   "display_name": "Python 3",
   "language": "python",
   "name": "python3"
  },
  "language_info": {
   "codemirror_mode": {
    "name": "ipython",
    "version": 3
   },
   "file_extension": ".py",
   "mimetype": "text/x-python",
   "name": "python",
   "nbconvert_exporter": "python",
   "pygments_lexer": "ipython3",
   "version": "3.7.3"
  }
 },
 "nbformat": 4,
 "nbformat_minor": 2
}
