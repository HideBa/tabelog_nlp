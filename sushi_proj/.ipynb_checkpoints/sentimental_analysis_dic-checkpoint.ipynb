{
 "cells": [
  {
   "cell_type": "code",
   "execution_count": 21,
   "metadata": {},
   "outputs": [],
   "source": [
    "import pandas as pd\n",
    "import numpy as np\n",
    "import oseti\n",
    "from statistics import mean\n",
    "analyzer = oseti.Analyzer()"
   ]
  },
  {
   "cell_type": "code",
   "execution_count": 9,
   "metadata": {},
   "outputs": [],
   "source": [
    "lunch_file = [\"pretest_sushitsuu_lunch.csv\",\n",
    "              \"pretest_sushiichi_lunch.csv\",\n",
    "              \"pretest_sawada_lunch.csv\",\n",
    "              \"pretest_mitani_lunch.csv\",\n",
    "              \"pretest_matsukan_lunch.csv\",\n",
    "              \"pretest_kiyoda_lunch.csv\",\n",
    "              \"pretest_imamura_lunch.csv\",\n",
    "              \"pretest_hatsune_lunch.csv\"\n",
    "              ]"
   ]
  },
  {
   "cell_type": "code",
   "execution_count": 10,
   "metadata": {},
   "outputs": [],
   "source": [
    "dinner_file = [\"pretest_sushitsuu_dinner.csv\",\n",
    "              \"pretest_sushiichi_dinner.csv\",\n",
    "              \"pretest_sawada_dinner.csv\",\n",
    "              \"pretest_mitani_dinner.csv\",\n",
    "              \"pretest_matsukan_dinner.csv\",\n",
    "              \"pretest_kiyoda_dinner.csv\",\n",
    "              \"pretest_imamura_dinner.csv\",\n",
    "              \"pretest_hatsune_dinner.csv\",\n",
    "              \"pretest_aozora_dinner.csv\"\n",
    "              ]"
   ]
  },
  {
   "cell_type": "code",
   "execution_count": 35,
   "metadata": {},
   "outputs": [],
   "source": [
    "store_name = [\"sushitsuu\",\n",
    "             \"sushiichi\",\n",
    "             \"sawada\",\n",
    "             \"mitani\",\n",
    "             \"matsukan\",\n",
    "             \"kiyoda\",\n",
    "             \"imamura\",\n",
    "             \"hatsune\",\n",
    "             \"aozora\",\n",
    "             ]"
   ]
  },
  {
   "cell_type": "code",
   "execution_count": 37,
   "metadata": {},
   "outputs": [],
   "source": [
    "df_list_lunch = []\n",
    "store_score_lunch = []\n",
    "for file in lunch_file:\n",
    "    results = []\n",
    "    df = pd.read_csv(file)\n",
    "    for review in df[\"lunch_review\"]:\n",
    "        result = analyzer.analyze(review)\n",
    "        score = mean(result)\n",
    "        score = round(2*score + 3,1)\n",
    "        results.append(score)\n",
    "    store_score_lunch.append(round(mean(results),1))\n",
    "    results = pd.DataFrame({\"score\":results})\n",
    "    df = pd.concat([df, results], axis=1)\n",
    "    df_list_lunch.append(df)"
   ]
  },
  {
   "cell_type": "code",
   "execution_count": 38,
   "metadata": {},
   "outputs": [],
   "source": [
    "df_list_dinner = []\n",
    "store_score_dinner = []\n",
    "for file in dinner_file:\n",
    "    results = []\n",
    "    df = pd.read_csv(file)\n",
    "    for review in df[\"dinner_review\"]:\n",
    "        result = analyzer.analyze(review)\n",
    "        score = mean(result)\n",
    "        score = round(2*score + 3,1)\n",
    "        results.append(score)\n",
    "    store_score_dinner.append(round(mean(results),1))\n",
    "    results = pd.DataFrame({\"score\":results})\n",
    "    df = pd.concat([df, results], axis=1)\n",
    "    df_list_dinner.append(df)"
   ]
  },
  {
   "cell_type": "code",
   "execution_count": null,
   "metadata": {},
   "outputs": [],
   "source": []
  }
 ],
 "metadata": {
  "kernelspec": {
   "display_name": "Python 3",
   "language": "python",
   "name": "python3"
  },
  "language_info": {
   "codemirror_mode": {
    "name": "ipython",
    "version": 3
   },
   "file_extension": ".py",
   "mimetype": "text/x-python",
   "name": "python",
   "nbconvert_exporter": "python",
   "pygments_lexer": "ipython3",
   "version": "3.7.3"
  }
 },
 "nbformat": 4,
 "nbformat_minor": 2
}
