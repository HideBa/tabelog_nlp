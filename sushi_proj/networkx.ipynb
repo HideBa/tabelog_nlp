{
 "cells": [
  {
   "cell_type": "code",
   "execution_count": 4,
   "metadata": {},
   "outputs": [],
   "source": [
    "import networkx as nx\n",
    "import matplotlib.pyplot as plt"
   ]
  },
  {
   "cell_type": "code",
   "execution_count": 8,
   "metadata": {},
   "outputs": [],
   "source": [
    "g = nx.Graph()\n",
    "g.add_edges_from([(0, 3, {'weight': 100}),\n",
    "                  (1, 2, {'weight': 15}),\n",
    "                  (1, 3, {'weight': 20})])"
   ]
  },
  {
   "cell_type": "code",
   "execution_count": 22,
   "metadata": {},
   "outputs": [
    {
     "name": "stdout",
     "output_type": "stream",
     "text": [
      "(1, {'cnt': 1})\n",
      "(2, {'cnt': 1})\n",
      "(3, {'cnt': 1})\n"
     ]
    }
   ],
   "source": [
    "for i in G.nodes().items():\n",
    "    print(i)"
   ]
  },
  {
   "cell_type": "code",
   "execution_count": 11,
   "metadata": {},
   "outputs": [],
   "source": [
    "node_name = [1,2,3]"
   ]
  },
  {
   "cell_type": "code",
   "execution_count": 19,
   "metadata": {},
   "outputs": [],
   "source": [
    "G = nx.Graph()"
   ]
  },
  {
   "cell_type": "code",
   "execution_count": 20,
   "metadata": {},
   "outputs": [],
   "source": [
    "\"\"\"\n",
    "node_name = [1,2,3]\n",
    "G = nx.Graph()\n",
    "G.add_nodes_from([(idx, {\"cnt\":1}) for idx in node_name])\n",
    "for i in G.nodes().items():\n",
    "    print(i)\n",
    ">>>(1, {'cnt': 1})\n",
    "    (2, {'cnt': 1})\n",
    "    (3, {'cnt': 1})\n",
    "\"\"\""
   ]
  },
  {
   "cell_type": "code",
   "execution_count": 9,
   "metadata": {},
   "outputs": [
    {
     "data": {
      "image/png": "[encoded data removed]",
      "text/plain": [
       "<Figure size 432x288 with 1 Axes>"
      ]
     },
     "metadata": {
      "needs_background": "light"
     },
     "output_type": "display_data"
    }
   ],
   "source": [
    "nx.draw_networkx(g)"
   ]
  },
  {
   "cell_type": "code",
   "execution_count": 7,
   "metadata": {},
   "outputs": [
    {
     "data": {
      "image/png": "[encoded data removed]",
      "text/plain": [
       "<Figure size 432x288 with 1 Axes>"
      ]
     },
     "metadata": {
      "needs_background": "light"
     },
     "output_type": "display_data"
    }
   ],
   "source": [
    "nx.draw_networkx(g)\n",
    "plt.show()"
   ]
  },
  {
   "cell_type": "code",
   "execution_count": null,
   "metadata": {},
   "outputs": [],
   "source": [
    "import numpy as np\n",
    "import matplotlib.pyplot as plt\n",
    "import matplotlib\n",
    "\n",
    "matplotlib.rcParams['font.family'] = 'IPAPGothic'\n",
    "np.random.seed(1234)\n",
    "\n",
    "%matplotlib inline\n",
    "\n",
    "import networkx as nx\n",
    "import MeCab\n",
    "from collections import defaultdict, Counter\n",
    "from copy import copy, deepcopy\n",
    "\n",
    "# MeCabの準備\n",
    "mecab = MeCab.Tagger('-d /usr/local/lib/mecab/dic/mecab-ipadic-neologd')\n",
    "mecab.parse('')\n",
    "\n",
    "# 文章の読み込みとNode, Edgeの切りだし\n",
    "node_name = defaultdict(str)\n",
    "node_idx = defaultdict(int)\n",
    "node_type = defaultdict(list)\n",
    "node_count = defaultdict(int)\n",
    "edge_list = []\n",
    "\n",
    "with open(\"../input/meros.txt\", mode=\"r\") as f:\n",
    "    lines = f.readlines()\n",
    "stopwords = [\"の\", \"し\", \"れ\", \"さ\"]\n",
    "\n",
    "# 文章を一行ずつ読み込み、Nodeとedgeを格納\n",
    "cnt = 0\n",
    "for line in lines:\n",
    "    node = mecab.parseToNode(line)\n",
    "    node_prev = None\n",
    "    while node:\n",
    "        w = node.surface\n",
    "        w_type = node.feature.split(',')[0]\n",
    "        if (w_type in [\"名詞\", \"動詞\", \"形容詞\"]) & (w not in stopwords):\n",
    "            # Nodeの処理\n",
    "            if w not in node_name.values():\n",
    "                node_name[cnt] = w\n",
    "                node_idx[w] = cnt\n",
    "                node_count[cnt] = 1\n",
    "                node_type[w_type].append(node_idx[w])\n",
    "                cnt += 1\n",
    "            else:\n",
    "                node_count[node_idx[w]] += 1\n",
    "            # edgeの処理\n",
    "            if (node_prev is not None) & (node_prev != node_idx[w]): # 循環グラフを回避\n",
    "                # 有向グラフを回避\n",
    "                edge = (min(node_prev, node_idx[w]), max(node_prev, node_idx[w]))\n",
    "                edge_list.append(edge)\n",
    "            node_prev = node_idx[w]\n",
    "        node = node.next\n",
    "        if node is None:\n",
    "            break\n",
    "\n",
    "edge_count = Counter(edge_list)\n",
    "\n",
    "# Networkxに格納\n",
    "G= nx.Graph()\n",
    "G.add_nodes_from([(idx, {'cnt': node_count[idx]}) for idx in node_name])\n",
    "\"\"\"\n",
    "node_name = defaultdict(str)\n",
    "node_name[0] = \"うんこ\"\n",
    "node_name[1] = \"tinntinn\"\n",
    "node_name[2] = \"プリン\"\n",
    "for i in node_name:\n",
    "    print(i)\n",
    ">>>0\n",
    "    1\n",
    "    2\n",
    "\"\"\"\n",
    "#G.add_nodes_from([(idx, {\"cnt\": node_count[node_idx[idx]]}) for idx in node_name])だと思う\n",
    "G.number_of_nodes() = len(node_name)\n",
    "G.add_edges_from([(a, b, {'cnt': edge_count[(a, b)]}) for a, b in edge_list])\n",
    "\n",
    "# Node, Edgeを剪定\n",
    "G2 = deepcopy(G)\n",
    "# Node: cnt >= 3で剪定\n",
    "# 破壊的操作なので、予め破壊用のグラフ(G2)と検索用グラフ(G)を分けておく\n",
    "for n, attr in G.nodes().items():\n",
    "    if (attr['cnt'] < 10):\n",
    "        G2.remove_edges_from(list(G.edges(n)))\n",
    "        G2.remove_node(n)\n",
    "\"\"\"\n",
    "node_name = [1,2,3]\n",
    "G = nx.Graph()\n",
    "G.add_nodes_from([(idx, {\"cnt\":1}) for idx in node_name])\n",
    "for i in G.nodes().items():\n",
    "    print(i)\n",
    ">>>(1, {'cnt': 1})\n",
    "    (2, {'cnt': 1})\n",
    "    (3, {'cnt': 1})\n",
    "\"\"\"\n",
    "G3 = deepcopy(G2)\n",
    "# Edge: cnt >= 2で剪定\n",
    "# Edgeが無くなったNodeは、一旦そのまま\n",
    "for e, attr in G2.edges().items():\n",
    "    if attr['cnt'] < 2:\n",
    "        G3.remove_edge(*e)\n",
    "\n",
    "G4 = deepcopy(G3)\n",
    "# Edgeが無くなったNodeを削除\n",
    "for n in list(G3.nodes()):\n",
    "    if len(G3[n]) == 0:\n",
    "        G4.remove_node(n)\n",
    "\n",
    "G_result = deepcopy(G4) # 描画に使う剪定後のグラフを確定\n",
    "\n",
    "pos = nx.layout.spring_layout(G_result, k=0.7, seed=10) # 2次元平面状の座標を計算\n",
    "\"\"\"\n",
    "k : float (default=None)\n",
    "\n",
    "Optimal distance between nodes. If None the distance is set to 1/sqrt(n) where n is the number of nodes. Increase this value to move nodes farther apart.\n",
    "\n",
    "seed: (int, RandomState instance or None optional (default=None)) – Set the random state for deterministic node layouts. \n",
    "\"\"\"\n",
    "labels = {n: node_name[n] for n in pos.keys()} # Nodeに日本語を描画するための辞書\n",
    "# node_size = [np.log(node_count[n])*400 for n in pos.keys()] # 対数スケール\n",
    "node_size = [node_count[n]*50 for n in pos.keys()]\n",
    "\n",
    "edge_alpha = [edge_count[e] for e in G_result.edges()]\n",
    "edge_colors = [edge_count[e] for e in G_result.edges()]\n",
    "edge_width = [edge_count[e] + 2 for e in G_result.edges()]\n",
    "\n",
    "# 描画\n",
    "fig, ax = plt.subplots(figsize=(12,12))\n",
    "# 名詞のNodeを描画\n",
    "# Nodeを色分けしたいときは、nodelistを使ってNodeのグループ毎に描画関数を繰り返し実行する\n",
    "# nodelistはグループ毎のNode番号を指定するが、それ以外の引数(posやnode_sizeなど)は全てのNodeについての値を入れる\n",
    "# 指定出来る色はmatplotlibのcolor exampleを参照\n",
    "# https://matplotlib.org/examples/color/named_colors.html\n",
    "nx.draw_networkx_nodes(G_result, pos, \n",
    "                       nodelist=[n for n in G_result.nodes() if n in node_type[\"名詞\"]],  \n",
    "                       node_size=node_size, node_color=\"orange\", alpha=0.6, ax=ax)\n",
    "nx.draw_networkx_nodes(G_result, pos, \n",
    "                       nodelist=[n for n in G_result.nodes() if n in node_type[\"動詞\"]], \n",
    "                       node_size=node_size, node_color=\"yellowgreen\", alpha=0.6, ax=ax)\n",
    "nx.draw_networkx_nodes(G_result, pos, \n",
    "                       nodelist=[n for n in G_result.nodes() if n in node_type[\"形容詞\"]], \n",
    "                       node_size=node_size, node_color=\"tomato\", alpha=0.6, ax=ax)\n",
    "# edgeの色に濃淡をつけたいときは、edge_colorに数値のlistを代入してedge_cmapを使用\n",
    "# Sequentialなカラーマップから好きなやつを選ぶ\n",
    "# https://matplotlib.org/examples/color/colormaps_reference.html\n",
    "# 色の濃淡の具合はedge_vmin, edge_vmaxで調整\n",
    "nx.draw_networkx_edges(G_result, pos, alpha=0.6,\n",
    "                       width=edge_width, edge_color=edge_colors, \n",
    "                       edge_vmin=0, edge_vmax=10,\n",
    "                       edge_cmap=plt.cm.Blues,ax=ax)\n",
    "# Nodeにラベルをつけたいときは、以下の関数を使う\n",
    "# font_familyにPCに入っている日本語フォントを指定してあげると、日本語を描画してくれる\n",
    "nx.draw_networkx_labels(G_result, pos, labels, font_size=10, font_family=\"IPAPGothic\", ax=ax)\n",
    "\"\"\"\n",
    "G (graph) – A networkx graph\n",
    "pos (dictionary) – A dictionary with nodes as keys and positions as values. Positions should be sequences of length 2.\n",
    "labels (dictionary, optional (default=None)) – Node labels in a dictionary keyed by node of text labels\n",
    "\"\"\"\n",
    "plt.show()"
   ]
  },
  {
   "cell_type": "code",
   "execution_count": 1,
   "metadata": {},
   "outputs": [],
   "source": [
    "from collections import defaultdict, Counter"
   ]
  },
  {
   "cell_type": "code",
   "execution_count": 2,
   "metadata": {},
   "outputs": [],
   "source": [
    "node_name = defaultdict(str)"
   ]
  },
  {
   "cell_type": "code",
   "execution_count": 5,
   "metadata": {},
   "outputs": [],
   "source": [
    "node_name = defaultdict(str)\n",
    "node_name[0] = \"うんこ\"\n",
    "node_name[1] = \"tinntinn\"\n",
    "node_name[2] = \"プリン\"\n",
    "for i in node_name:\n",
    "    print(i)\n",
    ">>>0\n",
    "    1\n",
    "    2"
   ]
  },
  {
   "cell_type": "code",
   "execution_count": 6,
   "metadata": {},
   "outputs": [
    {
     "name": "stdout",
     "output_type": "stream",
     "text": [
      "0\n",
      "1\n",
      "2\n"
     ]
    }
   ],
   "source": [
    "for i in node_name:\n",
    "    print(i)"
   ]
  },
  {
   "cell_type": "code",
   "execution_count": 7,
   "metadata": {},
   "outputs": [
    {
     "name": "stdout",
     "output_type": "stream",
     "text": [
      "tinntinn\n"
     ]
    }
   ],
   "source": [
    "print(node_name[1])"
   ]
  },
  {
   "cell_type": "code",
   "execution_count": null,
   "metadata": {},
   "outputs": [],
   "source": []
  }
 ],
 "metadata": {
  "kernelspec": {
   "display_name": "Python 3",
   "language": "python",
   "name": "python3"
  },
  "language_info": {
   "codemirror_mode": {
    "name": "ipython",
    "version": 3
   },
   "file_extension": ".py",
   "mimetype": "text/x-python",
   "name": "python",
   "nbconvert_exporter": "python",
   "pygments_lexer": "ipython3",
   "version": "3.7.3"
  }
 },
 "nbformat": 4,
 "nbformat_minor": 2
}
