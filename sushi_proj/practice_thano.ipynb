{
 "cells": [
  {
   "cell_type": "code",
   "execution_count": 1,
   "metadata": {},
   "outputs": [],
   "source": [
    "import numpy as np\n",
    "import theano\n",
    "import theano.tensor as tensor"
   ]
  },
  {
   "cell_type": "code",
   "execution_count": 2,
   "metadata": {},
   "outputs": [],
   "source": [
    "def main():\n",
    "    a=tensor.fscalar(name=\"a\")\n",
    "    b=tensor.fvector(name=\"b\")\n",
    "    c=tensor.fmatrix(name=\"c\")\n",
    "    d=tensor.iscalar(name=\"d\")\n",
    "    e=tensor.ivector(name=\"e\")\n",
    "    f=tensor.imatrix(name=\"f\")"
   ]
  },
  {
   "cell_type": "code",
   "execution_count": 3,
   "metadata": {},
   "outputs": [],
   "source": [
    "main()"
   ]
  },
  {
   "cell_type": "code",
   "execution_count": 8,
   "metadata": {},
   "outputs": [],
   "source": [
    "def main():\n",
    "    x=tensor.dscalar(name=\"x\")\n",
    "    y=tensor.dscalar(name=\"y\")\n",
    "    f=theano.function(inputs=[x,y],outputs=[x+y])\n",
    "    return f(1,2)[0]"
   ]
  },
  {
   "cell_type": "code",
   "execution_count": 9,
   "metadata": {},
   "outputs": [
    {
     "name": "stdout",
     "output_type": "stream",
     "text": [
      "3.0\n"
     ]
    }
   ],
   "source": [
    "print(main())"
   ]
  },
  {
   "cell_type": "code",
   "execution_count": 10,
   "metadata": {},
   "outputs": [],
   "source": [
    "def main():\n",
    "    c=tensor.dscalar(name=\"c\")\n",
    "    x=c+2\n",
    "    y=c*c\n",
    "    f=theano.function(inputs=[c],outputs=[x**2+y])\n",
    "    return f(2)"
   ]
  },
  {
   "cell_type": "code",
   "execution_count": 11,
   "metadata": {},
   "outputs": [
    {
     "name": "stdout",
     "output_type": "stream",
     "text": [
      "[array(20.)]\n"
     ]
    }
   ],
   "source": [
    "print(main())"
   ]
  },
  {
   "cell_type": "code",
   "execution_count": 18,
   "metadata": {},
   "outputs": [],
   "source": [
    "def main():\n",
    "    x=tensor.dscalar(name=\"x\")\n",
    "    y=tensor.dscalar(name=\"y\")\n",
    "    z=(x+4*y)**3\n",
    "    gzx=tensor.grad(cost=z,wrt=x)\n",
    "    gzy=tensor.grad(cost=z,wrt=y)\n",
    "    fgzx=theano.function(inputs=[x,y],outputs=[gzx])\n",
    "    fgzy=theano.function(inputs=[x,y],outputs=[gzy])\n",
    "    return fgzx(8,3)[0],fgzy(4,2)[0]"
   ]
  },
  {
   "cell_type": "code",
   "execution_count": 19,
   "metadata": {},
   "outputs": [
    {
     "name": "stdout",
     "output_type": "stream",
     "text": [
      "(array(1200.), array(1728.))\n"
     ]
    }
   ],
   "source": [
    "print(main())"
   ]
  },
  {
   "cell_type": "code",
   "execution_count": 37,
   "metadata": {},
   "outputs": [],
   "source": [
    "def main():\n",
    "    x=tensor.dscalar()\n",
    "    c=theano.shared(value=3)\n",
    "    f=theano.function(inputs=[x],outputs=[c*x])\n",
    "    print(f(2)[0])\n",
    "    c.set_value(4)\n",
    "    print(f(2)[0])"
   ]
  },
  {
   "cell_type": "code",
   "execution_count": 38,
   "metadata": {},
   "outputs": [
    {
     "name": "stdout",
     "output_type": "stream",
     "text": [
      "6.0\n",
      "8.0\n"
     ]
    }
   ],
   "source": [
    "main()"
   ]
  },
  {
   "cell_type": "code",
   "execution_count": 27,
   "metadata": {},
   "outputs": [],
   "source": [
    "def main():\n",
    "    c=theano.shared(value=np.array([0]),name=\"c\")\n",
    "    f=theano.function(inputs=[],outputs=[c*c],updates=[(c,c+1)])\n",
    "    for i in range(4):\n",
    "        print(c.get_value(), f()[0])"
   ]
  },
  {
   "cell_type": "code",
   "execution_count": 28,
   "metadata": {},
   "outputs": [
    {
     "name": "stdout",
     "output_type": "stream",
     "text": [
      "[0] [0]\n",
      "[1] [1]\n",
      "[2] [4]\n",
      "[3] [9]\n"
     ]
    }
   ],
   "source": [
    "main()"
   ]
  },
  {
   "cell_type": "code",
   "execution_count": 39,
   "metadata": {},
   "outputs": [],
   "source": [
    "def main():\n",
    "    tsa=tensor.lscalar(\"tsa\")\n",
    "    tsn=tensor.iscalar(\"tsn\")\n",
    "    lioutput,liupdate=theano.scan(fn=fna,\n",
    "                                  sequences=None,\n",
    "                                 outputs_info=tsa,\n",
    "                                 non_sequences=None,\n",
    "                                 n_steps=tsn)\n",
    "    fnb=theano.function(inputs=[tsa,tsn],outputs=lioutput,updates=liupdate)\n",
    "    print(fnb(9,10))\n",
    "def fna(tsa):\n",
    "    return 2+tsa"
   ]
  },
  {
   "cell_type": "code",
   "execution_count": 40,
   "metadata": {},
   "outputs": [
    {
     "name": "stdout",
     "output_type": "stream",
     "text": [
      "[11 13 15 17 19 21 23 25 27 29]\n"
     ]
    }
   ],
   "source": [
    "main()"
   ]
  },
  {
   "cell_type": "code",
   "execution_count": 41,
   "metadata": {},
   "outputs": [
    {
     "name": "stdout",
     "output_type": "stream",
     "text": [
      "0.4\n"
     ]
    }
   ],
   "source": [
    "lr=theano.shared(value=np.float32(0.4),name=\"lr\")\n",
    "print(lr.eval())"
   ]
  },
  {
   "cell_type": "code",
   "execution_count": 46,
   "metadata": {},
   "outputs": [],
   "source": [
    "def main():\n",
    "    x=tensor.dvector(name=\"x\")\n",
    "    w=theano.shared(value=np.random.rand(4),name=\"w\")\n",
    "    y=tensor.sum((x-w)**2)+1\n",
    "    gyw=tensor.grad(cost=y,wrt=w)\n",
    "    lr=theano.shared(value=np.float32(0.4),name=\"lr\")\n",
    "    f=theano.function(inputs=[x],outputs=[y],updates=[(w,w-lr*gyw)])\n",
    "    for i in range(30):\n",
    "        print(\"Epoch: \",i+1,\" y=\",f([1,2,3,4])[0],\"\\tw=\",w.get_value(),sep=\"\")\n",
    "        if (i+1)%5==0: \n",
    "            lr.set_value(lr.get_value()*np.float32(0.9))"
   ]
  },
  {
   "cell_type": "code",
   "execution_count": 44,
   "metadata": {},
   "outputs": [],
   "source": [
    "t=np.random.rand(4)"
   ]
  },
  {
   "cell_type": "code",
   "execution_count": 45,
   "metadata": {},
   "outputs": [
    {
     "name": "stdout",
     "output_type": "stream",
     "text": [
      "[0.71961274 0.55091478 0.91859857 0.47790642]\n"
     ]
    }
   ],
   "source": [
    "print(t)"
   ]
  },
  {
   "cell_type": "code",
   "execution_count": 47,
   "metadata": {},
   "outputs": [
    {
     "name": "stdout",
     "output_type": "stream",
     "text": [
      "Epoch: 1 y=17.97301997848473\tw=[0.91462803 1.79494477 2.56486055 3.3364954 ]\n",
      "Epoch: 2 y=1.6789207182057249\tw=[0.98292561 1.95898896 2.91297212 3.86729909]\n",
      "Epoch: 3 y=1.0271568254908827\tw=[0.99658512 1.99179779 2.98259442 3.97345982]\n",
      "Epoch: 4 y=1.0010862728901415\tw=[0.99931702 1.99835956 2.99651889 3.99469196]\n",
      "Epoch: 5 y=1.000043450910426\tw=[0.9998634  1.99967191 2.99930378 3.99893839]\n",
      "Epoch: 6 y=1.0000017380362098\tw=[0.99996175 1.99990814 2.99980506 3.99970275]\n",
      "Epoch: 7 y=1.000000136262069\tw=[0.99998929 1.99997428 2.99994542 3.99991677]\n",
      "Epoch: 8 y=1.0000000106829485\tw=[0.999997   1.9999928  2.99998472 3.9999767 ]\n",
      "Epoch: 9 y=1.0000000008375434\tw=[0.99999916 1.99999798 2.99999572 3.99999347]\n",
      "Epoch: 10 y=1.0000000000656635\tw=[0.99999976 1.99999944 2.9999988  3.99999817]\n",
      "Epoch: 11 y=1.000000000005148\tw=[0.99999992 1.9999998  2.99999958 3.99999936]\n",
      "Epoch: 12 y=1.000000000000638\tw=[0.99999997 1.99999993 2.99999985 3.99999977]\n",
      "Epoch: 13 y=1.000000000000079\tw=[0.99999999 1.99999998 2.99999995 3.99999992]\n",
      "Epoch: 14 y=1.0000000000000098\tw=[1.         1.99999999 2.99999998 3.99999997]\n",
      "Epoch: 15 y=1.000000000000001\tw=[1.         2.         2.99999999 3.99999999]\n",
      "Epoch: 16 y=1.0000000000000002\tw=[1. 2. 3. 4.]\n",
      "Epoch: 17 y=1.0\tw=[1. 2. 3. 4.]\n",
      "Epoch: 18 y=1.0\tw=[1. 2. 3. 4.]\n",
      "Epoch: 19 y=1.0\tw=[1. 2. 3. 4.]\n",
      "Epoch: 20 y=1.0\tw=[1. 2. 3. 4.]\n",
      "Epoch: 21 y=1.0\tw=[1. 2. 3. 4.]\n",
      "Epoch: 22 y=1.0\tw=[1. 2. 3. 4.]\n",
      "Epoch: 23 y=1.0\tw=[1. 2. 3. 4.]\n",
      "Epoch: 24 y=1.0\tw=[1. 2. 3. 4.]\n",
      "Epoch: 25 y=1.0\tw=[1. 2. 3. 4.]\n",
      "Epoch: 26 y=1.0\tw=[1. 2. 3. 4.]\n",
      "Epoch: 27 y=1.0\tw=[1. 2. 3. 4.]\n",
      "Epoch: 28 y=1.0\tw=[1. 2. 3. 4.]\n",
      "Epoch: 29 y=1.0\tw=[1. 2. 3. 4.]\n",
      "Epoch: 30 y=1.0\tw=[1. 2. 3. 4.]\n"
     ]
    }
   ],
   "source": [
    "main()"
   ]
  },
  {
   "cell_type": "code",
   "execution_count": 69,
   "metadata": {},
   "outputs": [],
   "source": [
    "def main():\n",
    "    #x=theano.shared(value=np.random.rand(),name=\"x\")\n",
    "    x=theano.shared(value=3.0,name=\"x\")\n",
    "    y=(x-1)**2\n",
    "    gyx=tensor.grad(cost=y,wrt=x)\n",
    "    lr=theano.shared(value=np.float32(0.4),name=\"lr\")\n",
    "    f=theano.function(inputs=[],outputs=[y],updates=[(x,x-lr*gyx)])\n",
    "    for i in range(30):\n",
    "        print(f()[0], x.eval())\n",
    "        if (i+1)%5==0:\n",
    "            lr.set_value(lr.get_value()*np.float32(0.9))\n",
    "            "
   ]
  },
  {
   "cell_type": "code",
   "execution_count": 70,
   "metadata": {},
   "outputs": [
    {
     "name": "stdout",
     "output_type": "stream",
     "text": [
      "4.0 1.399999976158142\n",
      "0.15999998092651424 1.0799999904632571\n",
      "0.00639999847412123 1.0159999971389773\n",
      "0.0002559999084472806 1.0031999992370606\n",
      "1.0239995117188436e-05 1.0006399998092652\n",
      "4.095997558595085e-07 1.0001791999664307\n",
      "3.211262796875558e-08 1.0000501759961549\n",
      "2.5176305901331732e-09 1.0000140492804785\n",
      "1.9738228196483284e-10 1.0000039337989695\n",
      "1.547477433210622e-11 1.0000011014638335\n",
      "1.2132225764533994e-12 1.000000387715333\n",
      "1.5032317940462443e-13 1.0000001364758195\n",
      "1.8625649317573577e-14 1.0000000480394964\n",
      "2.3077932125286366e-15 1.0000000169099055\n",
      "2.859449032028699e-16 1.0000000059522878\n",
      "3.54297297418973e-17 1.0000000024809141\n",
      "6.154934973971742e-18 1.0000000010340453\n",
      "1.0692496697025314e-18 1.0000000004309901\n",
      "1.8575249428799096e-19 1.0000000001796367\n",
      "3.22693619216803e-20 1.0000000000748726\n",
      "5.605899133184309e-21 1.0000000000355735\n",
      "1.2654770405770178e-21 1.0000000000169018\n",
      "2.8567129222934254e-22 1.0000000000080305\n",
      "6.448837103479607e-23 1.0000000000038154\n",
      "1.455721952025078e-23 1.0000000000018128\n",
      "3.2861428845219697e-24 1.0000000000009563\n",
      "9.14597888638448e-25 1.0000000000005045\n",
      "2.545054606860237e-25 1.0000000000002662\n",
      "7.087920163791449e-26 1.0000000000001406\n",
      "1.9755492953256375e-26 1.0000000000000742\n"
     ]
    }
   ],
   "source": [
    "main()"
   ]
  },
  {
   "cell_type": "code",
   "execution_count": 58,
   "metadata": {},
   "outputs": [
    {
     "name": "stdout",
     "output_type": "stream",
     "text": [
      "<class 'float'>\n"
     ]
    }
   ],
   "source": [
    "print(type(np.random.rand()))"
   ]
  },
  {
   "cell_type": "code",
   "execution_count": 101,
   "metadata": {},
   "outputs": [],
   "source": [
    "x=theano.shared(value=False)\n",
    "y=theano.shared(value=np.array([1.0,2.0]))\n",
    "z=theano.shared(value=np.array([1.0,3.0]))"
   ]
  },
  {
   "cell_type": "code",
   "execution_count": 102,
   "metadata": {},
   "outputs": [],
   "source": [
    "x_switch = tensor.switch(x,y,z)"
   ]
  },
  {
   "cell_type": "code",
   "execution_count": 103,
   "metadata": {},
   "outputs": [
    {
     "name": "stdout",
     "output_type": "stream",
     "text": [
      "[1. 3.]\n"
     ]
    }
   ],
   "source": [
    "print(x_switch.eval())"
   ]
  },
  {
   "cell_type": "code",
   "execution_count": 81,
   "metadata": {},
   "outputs": [
    {
     "data": {
      "text/plain": [
       "Elemwise{switch,no_inplace}.0"
      ]
     },
     "execution_count": 81,
     "metadata": {},
     "output_type": "execute_result"
    }
   ],
   "source": [
    "x_switch"
   ]
  },
  {
   "cell_type": "code",
   "execution_count": 104,
   "metadata": {},
   "outputs": [
    {
     "name": "stdout",
     "output_type": "stream",
     "text": [
      "[[0.93519732 0.93179939 0.36104762 0.09885824 0.93029486]\n",
      " [0.71422282 0.08937631 0.74645971 0.02972561 0.34077722]\n",
      " [0.20062984 0.77680836 0.30697642 0.46883034 0.92582715]\n",
      " [0.43660326 0.18707398 0.92482252 0.16411677 0.29437018]]\n"
     ]
    }
   ],
   "source": [
    "print(np.random.rand(4,5))"
   ]
  },
  {
   "cell_type": "code",
   "execution_count": null,
   "metadata": {},
   "outputs": [],
   "source": []
  }
 ],
 "metadata": {
  "kernelspec": {
   "display_name": "Python 3",
   "language": "python",
   "name": "python3"
  },
  "language_info": {
   "codemirror_mode": {
    "name": "ipython",
    "version": 3
   },
   "file_extension": ".py",
   "mimetype": "text/x-python",
   "name": "python",
   "nbconvert_exporter": "python",
   "pygments_lexer": "ipython3",
   "version": "3.7.3"
  }
 },
 "nbformat": 4,
 "nbformat_minor": 2
}
