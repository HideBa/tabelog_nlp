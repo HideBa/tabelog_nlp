{
 "cells": [
  {
   "cell_type": "code",
   "execution_count": 3,
   "metadata": {},
   "outputs": [],
   "source": [
    "import nagisa\n",
    "import pandas as pd"
   ]
  },
  {
   "cell_type": "code",
   "execution_count": 4,
   "metadata": {},
   "outputs": [],
   "source": [
    "data = pd.read_csv(\"../pretest_aozora_dinner.csv\")"
   ]
  },
  {
   "cell_type": "code",
   "execution_count": 6,
   "metadata": {},
   "outputs": [],
   "source": [
    "data = data[\"dinner_review\"]"
   ]
  },
  {
   "cell_type": "code",
   "execution_count": 11,
   "metadata": {},
   "outputs": [
    {
     "data": {
      "text/plain": [
       "'本日は美しきグルメOLと、2年ぶりの青空さんへ。お任せで下記が出て来ました～金時草毛蟹の土佐ポン酢ジュレかけ秋刀魚肝醤油お刺身（かます・松川鰈・ナガスクジラ尾の身）蒸し鮑鰹の藁焼き北海道ししゃも※以下握りすみいかかすご赤身中トロ大トロこはだ小柱車エビいくら鯖バフンうにブリ穴子玉子焼きどの握りも圧巻でしたが、ブリ、穴子はその中でも群を抜いて美味しくいただけました。日本酒と合わせながらほろ酔いで帰路につきます～ごちそうさまでした。'"
      ]
     },
     "execution_count": 11,
     "metadata": {},
     "output_type": "execute_result"
    }
   ],
   "source": [
    "text = data[0]\n",
    "text"
   ]
  },
  {
   "cell_type": "code",
   "execution_count": 12,
   "metadata": {},
   "outputs": [],
   "source": [
    "words = nagisa.tagging(text)"
   ]
  },
  {
   "cell_type": "code",
   "execution_count": 16,
   "metadata": {},
   "outputs": [
    {
     "data": {
      "text/plain": [
       "'本日/は/美しき/グルメ/OL/と/、/2/年/ぶり/の/青空/さん/へ/。/お/任せ/で/下記/が/出/て/来/まし/た/~/金時/草毛/蟹/の/土佐/ポン酢/ジュレかけ/秋刀魚/肝/醤油/お/刺身/(/かます/・/松川/鰈/・/ナガ/スクジラ/尾/の/身/)/蒸し/鮑鰹/の/藁焼き/北海道/し/しゃ/も/※/以下/握りすみ/いかかすご/赤身/中/トロ/大/トロこ/は/だ/小柱/車/エビ/いくら/鯖/バフンう/に/ブリ/穴子/玉子焼き/どの/握り/も/圧巻/でし/た/が/、/ブリ/、/穴子/は/その/中/で/も/群/を/抜い/て/美味しく/いただけ/まし/た/。/日本/酒/と/合わせ/ながら/ほろ酔い/で/帰路/に/つき/ます/~/ご/ちそう/さま/でし/た/。'"
      ]
     },
     "execution_count": 16,
     "metadata": {},
     "output_type": "execute_result"
    }
   ],
   "source": [
    "\"/\".join(words.words)"
   ]
  },
  {
   "cell_type": "code",
   "execution_count": null,
   "metadata": {},
   "outputs": [],
   "source": []
  }
 ],
 "metadata": {
  "kernelspec": {
   "display_name": "Python 3",
   "language": "python",
   "name": "python3"
  },
  "language_info": {
   "codemirror_mode": {
    "name": "ipython",
    "version": 3
   },
   "file_extension": ".py",
   "mimetype": "text/x-python",
   "name": "python",
   "nbconvert_exporter": "python",
   "pygments_lexer": "ipython3",
   "version": "3.7.3"
  }
 },
 "nbformat": 4,
 "nbformat_minor": 2
}
