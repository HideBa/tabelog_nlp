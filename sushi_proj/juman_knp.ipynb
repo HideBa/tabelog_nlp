{
 "cells": [
  {
   "cell_type": "code",
   "execution_count": 8,
   "metadata": {},
   "outputs": [],
   "source": [
    "from pyknp import Juman"
   ]
  },
  {
   "cell_type": "code",
   "execution_count": 10,
   "metadata": {},
   "outputs": [],
   "source": [
    "jumanp = Juman(jumanpp=False)"
   ]
  },
  {
   "cell_type": "code",
   "execution_count": 18,
   "metadata": {},
   "outputs": [
    {
     "name": "stdout",
     "output_type": "stream",
     "text": [
      "[<pyknp.juman.morpheme.Morpheme object at 0x10e6df0f0>, <pyknp.juman.morpheme.Morpheme object at 0x10e6dff28>, <pyknp.juman.morpheme.Morpheme object at 0x10e6dfd68>]\n"
     ]
    }
   ],
   "source": [
    "jumanpp = Juman(jumanpp=False)\n",
    "result = jumanpp.analysis(u\"毎日頑張ろう。\")\n",
    "print(result.mrph_list())"
   ]
  },
  {
   "cell_type": "code",
   "execution_count": 17,
   "metadata": {},
   "outputs": [
    {
     "name": "stdout",
     "output_type": "stream",
     "text": [
      "見出し:ケーキ\n",
      "見出し:を\n",
      "見出し:食べる\n"
     ]
    }
   ],
   "source": [
    "jumanpp = Juman()\n",
    "result = jumanpp.analysis(u\"ケーキを食べる\")\n",
    "for mrph in result.mrph_list():\n",
    "    print(u\"見出し:{0}\".format(mrph.midasi))"
   ]
  },
  {
   "cell_type": "code",
   "execution_count": 21,
   "metadata": {},
   "outputs": [
    {
     "name": "stdout",
     "output_type": "stream",
     "text": [
      "見出し:毎日, 読み:まいにち, 原型:毎日, 品詞:名詞, 品詞細分類:時相名詞 ,活用型:* ,活用形:*,意味情報代表表記:毎日/まいにち カテゴリ:時間,代表表記毎日/まいにち\n",
      "見出し:朝, 読み:あさ, 原型:朝, 品詞:名詞, 品詞細分類:時相名詞 ,活用型:* ,活用形:*,意味情報代表表記:朝/あさ 漢字読み:訓 カテゴリ:時間,代表表記朝/あさ\n",
      "見出し:から, 読み:から, 原型:から, 品詞:助詞, 品詞細分類:格助詞 ,活用型:* ,活用形:*,意味情報NIL,代表表記\n",
      "見出し:晩, 読み:ばん, 原型:晩, 品詞:名詞, 品詞細分類:時相名詞 ,活用型:* ,活用形:*,意味情報代表表記:晩/ばん 漢字読み:音 カテゴリ:時間,代表表記晩/ばん\n",
      "見出し:まで, 読み:まで, 原型:まで, 品詞:助詞, 品詞細分類:格助詞 ,活用型:* ,活用形:*,意味情報NIL,代表表記\n",
      "見出し:シコ, 読み:シコ, 原型:シコ, 品詞:未定義語, 品詞細分類:カタカナ ,活用型:* ,活用形:*,意味情報品詞推定:名詞,代表表記\n",
      "見出し:る, 読み:る, 原型:る, 品詞:接尾辞, 品詞細分類:動詞性接尾辞 ,活用型:母音動詞 ,活用形:基本形,意味情報代表表記:る/る,代表表記る/る\n"
     ]
    }
   ],
   "source": [
    "from pyknp import Juman\n",
    "jumanpp = Juman()\n",
    "result = jumanpp.analysis(\"毎日朝から晩までシコる\")\n",
    "for mrph in result.mrph_list():\n",
    "    print(\"見出し:{}, 読み:{}, 原型:{}, 品詞:{}, 品詞細分類:{} ,活用型:{} ,活用形:{},意味情報{},代表表記{}\".format\\\n",
    "         (mrph.midasi,mrph.yomi,mrph.genkei,mrph.hinsi,mrph.bunrui,mrph.katuyou1,mrph.katuyou2,mrph.imis,mrph.repname))"
   ]
  },
  {
   "cell_type": "code",
   "execution_count": 27,
   "metadata": {},
   "outputs": [
    {
     "name": "stdout",
     "output_type": "stream",
     "text": [
      "見出し:サッカー, 読み:さっかー, 原型:サッカー, 品詞:名詞, 品詞細分類:普通名詞 ,活用型:* ,活用形:*,意味情報:代表表記:サッカー/さっかー カテゴリ:抽象物 ドメイン:スポーツ,代表表記:サッカー/さっかー\n",
      "見出し:が, 読み:が, 原型:が, 品詞:助詞, 品詞細分類:格助詞 ,活用型:* ,活用形:*,意味情報:NIL,代表表記:\n",
      "見出し:好きだ, 読み:すきだ, 原型:好きだ, 品詞:形容詞, 品詞細分類:* ,活用型:ナ形容詞 ,活用形:基本形,意味情報:代表表記:好きだ/すきだ 反義:形容詞:嫌いだ/きらいだ 動詞派生:好く/すく,代表表記:好きだ/すきだ\n"
     ]
    }
   ],
   "source": [
    "result = jumanpp.analysis(\"サッカーが好きだ\")\n",
    "for mrph in result.mrph_list():\n",
    "    print(\"見出し:{}, 読み:{}, 原型:{}, 品詞:{}, 品詞細分類:{} ,活用型:{} ,活用形:{},意味情報:{},代表表記:{}\".format\\\n",
    "         (mrph.midasi,mrph.yomi,mrph.genkei,mrph.hinsi,mrph.bunrui,mrph.katuyou1,mrph.katuyou2,mrph.imis,mrph.repname))"
   ]
  },
  {
   "cell_type": "code",
   "execution_count": 23,
   "metadata": {},
   "outputs": [],
   "source": [
    "from pyknp import KNP"
   ]
  },
  {
   "cell_type": "code",
   "execution_count": 25,
   "metadata": {},
   "outputs": [
    {
     "name": "stdout",
     "output_type": "stream",
     "text": [
      "文節\n",
      "\n",
      "\n",
      "基本句\n",
      "\n",
      "\n",
      "形態素\n",
      "\n",
      "\n",
      "\n"
     ]
    }
   ],
   "source": [
    "knp = KNP()\n",
    "result = knp.parse(\"サッカーが好きだ\")\n",
    "print(\"文節\")\n",
    "for bnst in result.bnst_list():\n",
    "    print()\n",
    "print(\"基本句\")\n",
    "for tag in result.tag_list():\n",
    "    print()\n",
    "print(\"形態素\")\n",
    "for mrph in result.mrph_list():\n",
    "    print()"
   ]
  },
  {
   "cell_type": "code",
   "execution_count": 24,
   "metadata": {},
   "outputs": [
    {
     "ename": "NameError",
     "evalue": "name 'pyknp' is not defined",
     "output_type": "error",
     "traceback": [
      "\u001b[0;31m---------------------------------------------------------------------------\u001b[0m",
      "\u001b[0;31mNameError\u001b[0m                                 Traceback (most recent call last)",
      "\u001b[0;32m<ipython-input-24-dd7bd8e9640a>\u001b[0m in \u001b[0;36m<module>\u001b[0;34m\u001b[0m\n\u001b[0;32m----> 1\u001b[0;31m \u001b[0mpyknp\u001b[0m\u001b[0;34m.\u001b[0m\u001b[0mreadme\u001b[0m\u001b[0;34m\u001b[0m\u001b[0;34m\u001b[0m\u001b[0m\n\u001b[0m",
      "\u001b[0;31mNameError\u001b[0m: name 'pyknp' is not defined"
     ]
    }
   ],
   "source": []
  },
  {
   "cell_type": "code",
   "execution_count": null,
   "metadata": {},
   "outputs": [],
   "source": []
  }
 ],
 "metadata": {
  "kernelspec": {
   "display_name": "Python 3",
   "language": "python",
   "name": "python3"
  },
  "language_info": {
   "codemirror_mode": {
    "name": "ipython",
    "version": 3
   },
   "file_extension": ".py",
   "mimetype": "text/x-python",
   "name": "python",
   "nbconvert_exporter": "python",
   "pygments_lexer": "ipython3",
   "version": "3.7.3"
  }
 },
 "nbformat": 4,
 "nbformat_minor": 2
}
