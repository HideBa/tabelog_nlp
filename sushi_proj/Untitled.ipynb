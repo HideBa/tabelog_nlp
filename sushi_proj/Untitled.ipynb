{
 "cells": [
  {
   "cell_type": "code",
   "execution_count": 42,
   "metadata": {},
   "outputs": [],
   "source": [
    "def r(l):\n",
    "    ave = 0\n",
    "    for i in l:\n",
    "        ave += i/len(l)\n",
    "    s = 0\n",
    "    for i in l:\n",
    "        s += (i-ave)**2\n",
    "    print(((s/(len(l)-1))**(0.5))/30)"
   ]
  },
  {
   "cell_type": "code",
   "execution_count": 34,
   "metadata": {},
   "outputs": [],
   "source": [
    "l = [1,2,3,4]"
   ]
  },
  {
   "cell_type": "code",
   "execution_count": 35,
   "metadata": {},
   "outputs": [],
   "source": [
    "l1 = [19.77, 19.76, 19.90, 19.75, 19.82, 19.91, 19.89, 19.78, 19.91]\n",
    "l2 = [20.11,20.17 ,20.09 ,20.08 ,20.08 ,20.06 , 20.02, 20.01, 20.00]\n",
    "l3 = [19.78, 19.60,19.74, 19.65,19.65,19.62,19.65,19.74,19.78]\n",
    "l4 = [19.78,19.82 ,19.85 , 19.77, 19.70, 19.62, 19.65, 19.74, 19.78]\n",
    "l5 = [19.47, 19.46, 19.57, 19.62, 19.70, 19.57, 19.56, 19.60 , 19.54]\n",
    "l6 = [19.44, 19.46, 19.57, 19.62, 19.70, 19.57, 19.56, 19.60, 19.54]\n",
    "l7 = [19.47, 19.49, 19.38, 19.41, 19.45, 19.45, 19.50, 19.57, 19.41]\n",
    "l8 = [19.31, 19.28, 19.22, 19.17, 19.17, 19.16, 19.17, 19.15, 19.18]"
   ]
  },
  {
   "cell_type": "code",
   "execution_count": 43,
   "metadata": {},
   "outputs": [
    {
     "name": "stdout",
     "output_type": "stream",
     "text": [
      "0.0023200681130912215\n",
      "0.0017984904506931866\n",
      "0.0023273733406281583\n",
      "0.002539198862672558\n",
      "0.002450119674577775\n",
      "0.0026287818142935403\n",
      "0.0019108203913244302\n",
      "0.0019035379665568565\n"
     ]
    }
   ],
   "source": [
    "r(l1)\n",
    "r(l2)\n",
    "r(l3)\n",
    "r(l4)\n",
    "r(l5)\n",
    "r(l6)\n",
    "r(l7)\n",
    "r(l8)"
   ]
  },
  {
   "cell_type": "code",
   "execution_count": 52,
   "metadata": {},
   "outputs": [],
   "source": [
    "def gravity(l, dt, p, t, dl):\n",
    "    s = ((dt)**2)*((-8*l*(p**2)/(t**3))**2 )+ ((dl)**2)*(((4*(p**2))/(t**2))**2)\n",
    "    print(s**(0.5))\n",
    "    return s**(0.5)"
   ]
  },
  {
   "cell_type": "code",
   "execution_count": 53,
   "metadata": {},
   "outputs": [],
   "source": [
    "l = 0.96\n",
    "dl = 0.0001\n",
    "t = 1.96\n",
    "dt = 0.0025\n",
    "p = 3.1415"
   ]
  },
  {
   "cell_type": "code",
   "execution_count": 54,
   "metadata": {},
   "outputs": [
    {
     "name": "stdout",
     "output_type": "stream",
     "text": [
      "0.025186562831494532\n"
     ]
    },
    {
     "data": {
      "text/plain": [
       "0.025186562831494532"
      ]
     },
     "execution_count": 54,
     "metadata": {},
     "output_type": "execute_result"
    }
   ],
   "source": [
    "gravity(l, dt, p, t, dl)"
   ]
  },
  {
   "cell_type": "code",
   "execution_count": 55,
   "metadata": {},
   "outputs": [],
   "source": [
    "def tt(a1, a2, b1, b2):\n",
    "    return (b1*a2 - a1*b2) / (b1 -a1 + a2 - b2)"
   ]
  },
  {
   "cell_type": "code",
   "execution_count": 56,
   "metadata": {},
   "outputs": [
    {
     "name": "stdout",
     "output_type": "stream",
     "text": [
      "1.990889463850516\n"
     ]
    }
   ],
   "source": [
    "print(tt(1.95645, 1.93663, 1.97784, 1.97033))"
   ]
  },
  {
   "cell_type": "code",
   "execution_count": 57,
   "metadata": {},
   "outputs": [],
   "source": [
    "def gg(p,l,t):\n",
    "    return (4*(p**2)*l) / t**2"
   ]
  },
  {
   "cell_type": "code",
   "execution_count": 60,
   "metadata": {},
   "outputs": [
    {
     "name": "stdout",
     "output_type": "stream",
     "text": [
      "9.827840089715698\n"
     ]
    }
   ],
   "source": [
    "print(gg(3.1415, 0.9603, 1.964))"
   ]
  },
  {
   "cell_type": "code",
   "execution_count": 61,
   "metadata": {},
   "outputs": [
    {
     "name": "stdout",
     "output_type": "stream",
     "text": [
      "0.9959836098827538\n"
     ]
    }
   ],
   "source": [
    "print(9.82/(3.14)**2)"
   ]
  },
  {
   "cell_type": "code",
   "execution_count": 70,
   "metadata": {},
   "outputs": [],
   "source": [
    "def cond(e, s, l, v):\n",
    "    return ((e*s)*(v**2)) / (2*(l**2))"
   ]
  },
  {
   "cell_type": "code",
   "execution_count": 71,
   "metadata": {},
   "outputs": [],
   "source": [
    "l = [100, 200, 300, 400, 500, 600, 700, 800, 900, 1000]\n",
    "d = [0.004, 0.0042]\n",
    "e = 8.854 * (10**(-12))\n",
    "s = 3.14*(0.07)**2"
   ]
  },
  {
   "cell_type": "code",
   "execution_count": 72,
   "metadata": {},
   "outputs": [
    {
     "name": "stdout",
     "output_type": "stream",
     "text": [
      "8.854e-12\n"
     ]
    }
   ],
   "source": [
    "print(e)"
   ]
  },
  {
   "cell_type": "code",
   "execution_count": 74,
   "metadata": {},
   "outputs": [
    {
     "name": "stdout",
     "output_type": "stream",
     "text": [
      "4.2571138750000004e-05\n",
      "0.00017028455500000002\n",
      "0.00038314024875000006\n",
      "0.0006811382200000001\n",
      "0.00106427846875\n",
      "0.0015325609950000002\n",
      "0.0020859857987500004\n",
      "0.0027245528800000003\n",
      "0.0034482622387500004\n",
      "0.004257113875\n",
      "3.861327777777779e-05\n",
      "0.00015445311111111115\n",
      "0.0003475195000000001\n",
      "0.0006178124444444446\n",
      "0.0009653319444444446\n",
      "0.0013900780000000003\n",
      "0.0018920506111111117\n",
      "0.0024712497777777784\n",
      "0.0031276755000000005\n",
      "0.0038613277777777783\n"
     ]
    }
   ],
   "source": [
    "for t in d:\n",
    "    for v in l:\n",
    "        print(cond(e, s, t, v))\n",
    "       # print(t,i)"
   ]
  },
  {
   "cell_type": "code",
   "execution_count": 78,
   "metadata": {},
   "outputs": [],
   "source": [
    "def roo(u, i1, i2, l, r):\n",
    "    return (u*i1*i2*l) / (2*3.14*r)"
   ]
  },
  {
   "cell_type": "code",
   "execution_count": 82,
   "metadata": {},
   "outputs": [],
   "source": [
    "i = [1,2,3,4,5,6,7,8,9,10]\n",
    "rl = [0.004,0.005,0.006]\n",
    "u = 1.25*(10**(-6))\n",
    "l = 0.47"
   ]
  },
  {
   "cell_type": "code",
   "execution_count": 83,
   "metadata": {},
   "outputs": [
    {
     "name": "stdout",
     "output_type": "stream",
     "text": [
      "2.338773885350318e-05\n",
      "9.355095541401273e-05\n",
      "0.0002104896496815286\n",
      "0.0003742038216560509\n",
      "0.0005846934713375796\n",
      "0.0008419585987261144\n",
      "0.001145999203821656\n",
      "0.0014968152866242036\n",
      "0.0018944068471337578\n",
      "0.0023387738853503184\n",
      "1.871019108280254e-05\n",
      "7.484076433121016e-05\n",
      "0.00016839171974522286\n",
      "0.00029936305732484065\n",
      "0.0004677547770700636\n",
      "0.0006735668789808914\n",
      "0.0009167993630573247\n",
      "0.0011974522292993626\n",
      "0.001515525477707006\n",
      "0.0018710191082802544\n",
      "1.559182590233545e-05\n",
      "6.23673036093418e-05\n",
      "0.00014032643312101906\n",
      "0.0002494692144373672\n",
      "0.0003897956475583863\n",
      "0.0005613057324840762\n",
      "0.0007639994692144372\n",
      "0.0009978768577494689\n",
      "0.0012629378980891718\n",
      "0.0015591825902335453\n"
     ]
    }
   ],
   "source": [
    "for r in rl:\n",
    "    for i1 in i:\n",
    "        print(roo(u, i1, i1, l, r))"
   ]
  },
  {
   "cell_type": "code",
   "execution_count": 87,
   "metadata": {},
   "outputs": [
    {
     "name": "stderr",
     "output_type": "stream",
     "text": [
      "/Users/yuki/anaconda3/lib/python3.7/site-packages/gensim/models/doc2vec.py:574: UserWarning: The parameter `size` is deprecated, will be removed in 4.0.0, use `vector_size` instead.\n",
      "  warnings.warn(\"The parameter `size` is deprecated, will be removed in 4.0.0, use `vector_size` instead.\")\n"
     ]
    },
    {
     "ename": "TypeError",
     "evalue": "You can't pass a generator as the documents argument. Try a sequence.",
     "output_type": "error",
     "traceback": [
      "\u001b[0;31m---------------------------------------------------------------------------\u001b[0m",
      "\u001b[0;31mTypeError\u001b[0m                                 Traceback (most recent call last)",
      "\u001b[0;32m<ipython-input-87-1fa01507c8ec>\u001b[0m in \u001b[0;36m<module>\u001b[0;34m\u001b[0m\n\u001b[1;32m     35\u001b[0m \u001b[0mcorpus\u001b[0m \u001b[0;34m=\u001b[0m \u001b[0mcorpus_files\u001b[0m\u001b[0;34m(\u001b[0m\u001b[0;34m)\u001b[0m\u001b[0;34m\u001b[0m\u001b[0;34m\u001b[0m\u001b[0m\n\u001b[1;32m     36\u001b[0m \u001b[0msentences\u001b[0m \u001b[0;34m=\u001b[0m \u001b[0mcorpus_to_sentences\u001b[0m\u001b[0;34m(\u001b[0m\u001b[0mcorpus\u001b[0m\u001b[0;34m)\u001b[0m\u001b[0;34m\u001b[0m\u001b[0;34m\u001b[0m\u001b[0m\n\u001b[0;32m---> 37\u001b[0;31m \u001b[0mmodel\u001b[0m \u001b[0;34m=\u001b[0m \u001b[0mmodels\u001b[0m\u001b[0;34m.\u001b[0m\u001b[0mDoc2Vec\u001b[0m\u001b[0;34m(\u001b[0m\u001b[0msentences\u001b[0m\u001b[0;34m,\u001b[0m \u001b[0mdm\u001b[0m\u001b[0;34m=\u001b[0m\u001b[0;36m0\u001b[0m\u001b[0;34m,\u001b[0m \u001b[0msize\u001b[0m\u001b[0;34m=\u001b[0m\u001b[0;36m300\u001b[0m\u001b[0;34m,\u001b[0m \u001b[0mwindow\u001b[0m\u001b[0;34m=\u001b[0m\u001b[0;36m15\u001b[0m\u001b[0;34m,\u001b[0m \u001b[0malpha\u001b[0m\u001b[0;34m=\u001b[0m\u001b[0;36m.025\u001b[0m\u001b[0;34m,\u001b[0m \u001b[0mmin_alpha\u001b[0m\u001b[0;34m=\u001b[0m\u001b[0;36m.025\u001b[0m\u001b[0;34m,\u001b[0m \u001b[0mmin_count\u001b[0m\u001b[0;34m=\u001b[0m\u001b[0;36m1\u001b[0m\u001b[0;34m,\u001b[0m \u001b[0msample\u001b[0m\u001b[0;34m=\u001b[0m\u001b[0;36m1e-6\u001b[0m\u001b[0;34m)\u001b[0m\u001b[0;34m\u001b[0m\u001b[0;34m\u001b[0m\u001b[0m\n\u001b[0m\u001b[1;32m     38\u001b[0m \u001b[0mprint\u001b[0m\u001b[0;34m(\u001b[0m\u001b[0;34m\"\\n訓練開始\"\u001b[0m\u001b[0;34m)\u001b[0m\u001b[0;34m\u001b[0m\u001b[0;34m\u001b[0m\u001b[0m\n\u001b[1;32m     39\u001b[0m \u001b[0;32mfor\u001b[0m \u001b[0mepoch\u001b[0m \u001b[0;32min\u001b[0m \u001b[0mrange\u001b[0m\u001b[0;34m(\u001b[0m\u001b[0;36m20\u001b[0m\u001b[0;34m)\u001b[0m\u001b[0;34m:\u001b[0m\u001b[0;34m\u001b[0m\u001b[0;34m\u001b[0m\u001b[0m\n",
      "\u001b[0;32m~/anaconda3/lib/python3.7/site-packages/gensim/models/doc2vec.py\u001b[0m in \u001b[0;36m__init__\u001b[0;34m(self, documents, corpus_file, dm_mean, dm, dbow_words, dm_concat, dm_tag_count, docvecs, docvecs_mapfile, comment, trim_rule, callbacks, **kwargs)\u001b[0m\n\u001b[1;32m    612\u001b[0m                 \u001b[0;32mraise\u001b[0m \u001b[0mTypeError\u001b[0m\u001b[0;34m(\u001b[0m\u001b[0;34m\"You must pass string as the corpus_file argument.\"\u001b[0m\u001b[0;34m)\u001b[0m\u001b[0;34m\u001b[0m\u001b[0;34m\u001b[0m\u001b[0m\n\u001b[1;32m    613\u001b[0m             \u001b[0;32melif\u001b[0m \u001b[0misinstance\u001b[0m\u001b[0;34m(\u001b[0m\u001b[0mdocuments\u001b[0m\u001b[0;34m,\u001b[0m \u001b[0mGeneratorType\u001b[0m\u001b[0;34m)\u001b[0m\u001b[0;34m:\u001b[0m\u001b[0;34m\u001b[0m\u001b[0;34m\u001b[0m\u001b[0m\n\u001b[0;32m--> 614\u001b[0;31m                 \u001b[0;32mraise\u001b[0m \u001b[0mTypeError\u001b[0m\u001b[0;34m(\u001b[0m\u001b[0;34m\"You can't pass a generator as the documents argument. Try a sequence.\"\u001b[0m\u001b[0;34m)\u001b[0m\u001b[0;34m\u001b[0m\u001b[0;34m\u001b[0m\u001b[0m\n\u001b[0m\u001b[1;32m    615\u001b[0m             \u001b[0mself\u001b[0m\u001b[0;34m.\u001b[0m\u001b[0mbuild_vocab\u001b[0m\u001b[0;34m(\u001b[0m\u001b[0mdocuments\u001b[0m\u001b[0;34m=\u001b[0m\u001b[0mdocuments\u001b[0m\u001b[0;34m,\u001b[0m \u001b[0mcorpus_file\u001b[0m\u001b[0;34m=\u001b[0m\u001b[0mcorpus_file\u001b[0m\u001b[0;34m,\u001b[0m \u001b[0mtrim_rule\u001b[0m\u001b[0;34m=\u001b[0m\u001b[0mtrim_rule\u001b[0m\u001b[0;34m)\u001b[0m\u001b[0;34m\u001b[0m\u001b[0;34m\u001b[0m\u001b[0m\n\u001b[1;32m    616\u001b[0m             self.train(\n",
      "\u001b[0;31mTypeError\u001b[0m: You can't pass a generator as the documents argument. Try a sequence."
     ]
    }
   ],
   "source": [
    "import sys\n",
    "from os import listdir, path\n",
    "from pyknp import Juman\n",
    "from gensim import models\n",
    "from gensim.models.doc2vec import LabeledSentence\n",
    "\n",
    "def corpus_files():\n",
    "    dirs = [path.join(\"./text\", x)\n",
    "           for x in listdir(\"./text\") if not (x.endswith(\".txt\") or  x.startswith(\".DS\")) ]\n",
    "    #./text の配下のdir,fileのうち拡張子が.txtでないものを持ってきて./textにつなげる。\n",
    "    #こうすることでdirsには拡張子が.txtでないもののみが入れられる\n",
    "    docs = [path.join(x, y)\n",
    "           for x in dirs for y in listdir(x) if not (x.startswith(\"LICENSE\") or x.startswith(\".DS\"))]\n",
    "    return docs\n",
    "\n",
    "def read_document(path):\n",
    "    with open(path, \"r\") as f:\n",
    "        return f.read()\n",
    "    #\"r\"は読み込み用に開くことを宣言\n",
    "    \n",
    "def split_into_words(text):\n",
    "    result  = Juman().analysis(text)\n",
    "    return [mrph.midasi for mrph in result.mrph_list()]\n",
    "\n",
    "def doc_to_sentence(doc, name):\n",
    "    words = split_into_words(doc)\n",
    "    return LabeledSentence(words=words, tags=[name])\n",
    "\n",
    "def corpus_to_sentences(corpus):\n",
    "    docs = [read_document(x) for x in corpus]\n",
    "    for idx, (doc, name) in enumerate(zip(docs, corpus)):\n",
    "        sys.stdout.write(\"\\r前処理中 {}/{}\".format(idx, len(corpus)))\n",
    "        yield doc_to_sentence(doc, name)\n",
    "        \n",
    "corpus = corpus_files()\n",
    "sentences = corpus_to_sentences(corpus)\n",
    "model = models.Doc2Vec(sentences, dm=0, size=300, window=15, alpha=.025, min_alpha=.025, min_count=1, sample=1e-6)\n",
    "print(\"\\n訓練開始\")\n",
    "for epoch in range(20):\n",
    "    print(\"Epoch:{}\".format(epoch + 1))\n",
    "    model.train(sentences)\n",
    "    model.alpha -= (0.025 - 0.0001) / 19\n",
    "    model.min_alpha = model.alpha"
   ]
  },
  {
   "cell_type": "code",
   "execution_count": null,
   "metadata": {},
   "outputs": [],
   "source": []
  }
 ],
 "metadata": {
  "kernelspec": {
   "display_name": "Python 3",
   "language": "python",
   "name": "python3"
  },
  "language_info": {
   "codemirror_mode": {
    "name": "ipython",
    "version": 3
   },
   "file_extension": ".py",
   "mimetype": "text/x-python",
   "name": "python",
   "nbconvert_exporter": "python",
   "pygments_lexer": "ipython3",
   "version": "3.7.3"
  }
 },
 "nbformat": 4,
 "nbformat_minor": 2
}
