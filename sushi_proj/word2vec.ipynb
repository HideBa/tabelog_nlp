{
 "cells": [
  {
   "cell_type": "code",
   "execution_count": null,
   "metadata": {},
   "outputs": [],
   "source": [
    "from janome.tokenizer import Tokenizer\n",
    "from gensim.models import word2vec\n",
    "import re\n",
    "binary_data = open(\"./ishinshino_shiyoni_tsuite.txt\", \"rb\").read()\n",
    "text = binary_data.decode(\"shift_jis\")\n",
    "print(text)"
   ]
  },
  {
   "cell_type": "code",
   "execution_count": 10,
   "metadata": {},
   "outputs": [],
   "source": [
    "binary_data = open(\"./ishinshino_shiryoni_tsuite.txt\", \"rb\").read()\n",
    "text = binary_data.decode(\"shift_jis\")"
   ]
  },
  {
   "cell_type": "code",
   "execution_count": 4,
   "metadata": {},
   "outputs": [
    {
     "name": "stdout",
     "output_type": "stream",
     "text": [
      "維新史の資料に就て\r\n",
      "内藤湖南\r\n",
      "\r\n",
      "-------------------------------------------------------\r\n",
      "【テキスト中に現れる記号について】\r\n",
      "\r\n",
      "［＃］：入力者注　主に外字の説明や、傍点の位置の指定\r\n",
      "　　　（数字は、JIS X 0213の面区点番号またはUnicode、底本のページと行数）\r\n",
      "（例）※［＃二の字点、1-2-22］\r\n",
      "\r\n",
      "／＼：二倍の踊り字（「く」を縦に長くしたような形の繰り返し記号）\r\n",
      "（例）いろ／＼\r\n",
      "-------------------------------------------------------\r\n",
      "\r\n",
      "　いづれの世でも革命の際は必ず陰謀がこれに伴ふ。從つてこれに關する記録も多くは當時の陰謀から出た結果の記録であつて信用し難いものであることは、古來屡※［＃二の字点、1-2-22］見る所である。然し或時期を經過すると其時の陰謀に與かつた人々の多くは亡くなり、自然に觀察が公平になるのと、從來の記録に反對の材料を發見して史實を一變することがある。どうかすると支那等の樣な國では朝代の替り目のみならず、同じ朝代の間にあつても陰謀簒奪などの行はれた後では、時として右の順序を繰返すことがある。\r\n",
      "　例へば明の永樂帝が建文帝の位を奪つた所謂靖難の役に就いては、明の實録は建文一朝を認めないで、前代の洪武の年號を延ばして書いて居つて、これを革除と稱して居る。然るに永樂帝の曾孫か玄孫の代くらゐになつて、建文帝が靖難の役に死なゝいで僧侶になつて逃れたのが現れて來た。それを終りには明の宮中に呼びかへして僧體の儘で一生を安らかに送らしめたといふ話があつて、當時の信用すべき歴史家も其事を明かに認めてゐる。清朝で明史を作つた時は其説を採らないで、建文帝は靖難の役に死んだものと極めたのであるが、明代では一般にさうは信じなかつた。\r\n",
      "　それはどちらが事實だか判らないとしても、兎も角著しい事變の後にはいろ／＼な歴史上の疑問が生じて、後に判斷に苦しむ樣な事が出來てくる。然しこれは多くは事變の鎭まつた時に、いろ／＼陰謀等の跡を蔽はんが爲めに、勝利を占めた一方の材料だけを採つて記録とするから起る所の結果であつて、若し他の一方即ち敗者の材料を早く集めておくならば、曖昧な疑問が生ずるといふことが比較的少くなる。今日の如く歴史が一つの學問として考へられ、其の眞相を現すことが一つの神聖な仕事として考へられる時代にあつては、殊にこの用意が必要であつて、一時の順逆などゝいふ考へは、神聖な史實の前には極めて微力なものであると考へなければならぬ。\r\n",
      "　以上の如き見地から我維新史を觀察すると、そこにいろ／＼な問題が生じて來るであらうと思ふ。今日の維新史料編纂局といふものは如何なる方針で如何なる材料を蒐集してゐるか知らぬが、最初藩閥思想の最も強かつた井上侯が主宰して居り、その委員と稱する人物は多く維新以後の藩閥方であつた人々であるところから見ると、果して勝利者に便宜な方法で作られて居ないといふことを斷言し得るかどうかと思ふ。現に維新前後の殉難者の待遇といふ樣なものも、頗る公平を缺いて居るではないかと思ふ事がある。\r\n",
      "　戊辰の歳の革命戰爭で敗けたものは降服した結果となつたから、其時並に其後引續き勝つたものが執つたところの態度に對しては更に何等の苦情をも言はなかつた。其後數度の大赦特赦等があつて賊名などは除かれ、徳川慶喜公さへも後には公爵に列せられたけれども、維新の時に薩長に反對して戰死し、若しくは敗北の責を負うて死を賜つたものなどは、贈位の恩典に浴して居ない。これは勿論取るに足らない順逆論であるけれども、兎に角これと同じ筆法を其の三四年前即ち元治元年に京都に起つた事變に比較して見たならば、甚だ矛盾して居るといふことがわかる。\r\n",
      "　元治元年の騷動は長州其他の兵士が禁闕に向つて發砲し、それが會津薩摩の兵に破られ、或は戰死し或は自殺し、其統率者であつた長州三家老は、翌年幕府の長州征伐に對して服罪して自殺した。是等も當時の順逆からいへば明かに賊名を受くべきもので、而もその服罪の仕方は維新の際の東北諸藩の家老等と同樣であるにかゝはらず、これ等の人々は既に贈位の恩典に浴して居る。維新の際勝利者が便宜の爲めにした一時の處置は、別に今日から咎める必要はないけれども、維新以後五十年もたつた今日、當時の騷亂は皆單に意見の相違で、勝つたものも敗けたものも朝廷に對して叛亂を企てる意思がなかつたといふことが明白になつた以上は、其の薩長であると反薩長であるとを問はず同一の待遇を與へるべきであると思ふ。\r\n",
      "　是は歴史上の事實の訂正ではないが、歴史上の事實としては今日迄別に官撰の維新史も出來たことはないから、如何なる態度で政府が維新史を取扱ふかといふ事は明かではないが、然し實際世に行はれて居る多數の歴史は多く薩長のために書かれたもので、所謂尊攘派の觀方によつて作られたものである。尤も其の中に故の山川浩氏の書いた「京都守護職始末」の如き全く反對の立場から書いたものであつて、これは明治四十四年に出版になつて居るが、實際この書が書かれたのは其の遙か以前であつたので、これを公にする迄には少からぬ困難があつたといふことを聞いて居る。この書は會津藩が京都守護職を承はつて居つて、孝明天皇が非常な御倚頼を受けて居つた事の始末を書いたものである。この書の出來る前に矢張り會津の人で北原雅長といふ人が「守護職小史」といふものを書いたことがある、然しこれは孝明天皇が如何に會津の藩士を御頼りになつたかといふ樣な機密材料は少しも載せられてなかつた。この山川浩氏の一記述が出づるに至つて初めて眞相が顯はれたのである。\r\n",
      "　又徳川慶喜公の晩年に公爵を賜はつたりなどする時には、長閥等の思想も大分寛大になつて居つた傾きがあるけれども、然し夫は澁澤男などが伊藤、山縣兩公等の間に斡旋して、頗る妥協的に再び世に出て來たのであつて、近年あらはれた慶喜公に關する記事等も、幾らかこの妥協氣分から生れて來てゐると見なければならぬものであつて、「京都守護職始末」の如く、全然維新の勝利者を向ふへ※［＃「廴＋囘」、第4水準2-12-11］して、其の藩の爲めに冤枉を伸べる意氣込で書いたものとは同一に見られない。今日迄に世に現れた反薩長派の著しい著述はこれ等一二のものに過ぎないけれども、維新の事情に對する順逆論の從來の態度を開放したならば、斯くの如き著述は幾つも現れて來るべきものであると思ふ。\r\n",
      "　尤も會津藩の如く、孝明天皇の非常な知遇を蒙つて居りながら、非常な殘酷な運命を以て終つたが爲めに、非常な深刻な感じを持つた地方は多くはないわけであるから、「守護職始末」の如き名著は出來難いとしても、兎も角維新の事情に對して反薩長側の意思、主張を十分に述べたものは現れるに違ひない。それは必ずしも纏まつた著述としてでなくとも、今日ならばまだ材料としても、さういふものを集め得る機會もあると思ふ。\r\n",
      "　維新史料編纂局が果して是等に對して十分なる用意を持ち、十分なる注意を拂つて居るかどうか、維新史料編纂局は開設以來其の成績を公表したこともなければ、如何なることをして居るかも世間に知らしめたこともない。これは政府の一つの機關をなすものゝ態度としても實に怠慢の至りであつて、世論が少しも之を問はない事が既に不可思議の次第である。今日迄の如き委員等の組織から考へると、その材料蒐集の態度等においても十分の疑問をさしはさんでも差支ない。もしそれがさうでないとすれば、その證據を示す爲めに材料の蒐集法、其の得たる材料等を、或る時期において時々これを開放し、展覽して其の公平な態度を示すべきである。\r\n",
      "　自分は單にかういふ事をあり得べき事として想像するのみでない。多少自分は明白な證據を握つて居る。其一二を擧げるならば、一つは久邇宮家に關する事である。故の久邇宮朝彦親王即ち維新前に中川宮と稱せられた方は、孝明天皇の非常に御信任の厚かつた方であつて、京都守護職始末にあらはれて居るところでも、孝明天皇は屡※［＃二の字点、1-2-22］宮に宸翰を賜つて「眞實の連枝と存ずる」と仰せられ、何もかも御相談になつた方で、其の當時からして屡※［＃二の字点、1-2-22］中傷を試みた反對派があつたけれども、天皇は少しも御取上げにならなかつた。この親王が孝明天皇の崩御の後間もなく、一種の陰謀に傷つけられて謀叛の嫌疑といふことで廣島へ遷された。\r\n",
      "　これは眞實全く陰謀の毒手にかゝられたのであつて、當時薩長派の政府から親王謀叛の文書を持參して尋問の使者を承はつたものがある。それは故の男爵中島錫胤であつたといふことであるが、親王の前に其の文書を差出した所、親王は少しも自分の知らぬことだと仰せられ、文書には手形が押してあつたので、親王はその手形の上に御自分の手を當てられた、所が手形は親王の手より大きくて少しも合はなかつた。それで使者中島は一言もなく其の儘引き返した。然しそれにもかゝはらず親王謀叛の嫌疑は霽れず、何の理由もなく廣島へ遷されたのであつた。\r\n",
      "　其の後赦免と稱して廣島から東京へ歸ることを許された時も、非常に困窮をせられて、山内容堂侯から五百兩の金を借られて、京都へ御着きになつたといふ事である。これ等の事は、自分は後に久邇宮家の傳記を調査した故の内藤恥叟翁其他から親く聽いた所である。久邇宮家では其の傳記を世に發表せられずして其の儘藏されて居るといふことであるが、これ等の事も今日になれば勝利者の態度を保護する爲めに何時迄も眞相を蔽ひ隱すといふことは甚だ不都合であつて、有りの儘の材料を傳へることをはかるべきである。\r\n",
      "　自分は又近衞公爵家に藏せられる百四十餘通の孝明天皇の宸翰を拜見したことがある。其の宸翰は誠に君臣といふが如き嚴めしき態度をとられて居ないで、親戚の長者などに對せられる樣な極めて親密な御扱ひ方であつて、時としては御好な刀劍を需めたいけれども金が無いからとて御無心遊ばされたといふことなども見えて居るが、すべて宸衷を包まれることなく御認めになつたものゝみである。其宸翰全部は明治天皇も一時お借り上げになつて御覽になり、十數通はこれを御手許にお留めになつて、其の寫を御返しになつたといふことであるが、自分が拜見した中で最も重大なることは、矢張り山川浩氏の「守護職始末」にあると同樣な七卿の參朝を止められた事件であつて、當時の朝廷における過激な議論に對して非常に宸襟を惱ませられて、これを斥け得たので御安心になつたといふことを御認めになつたものであつた。自分は其の以前から「守護職始末」を讀んで居つたので、會津家に有する宸翰と、これ等の新しき材料とは全く一致するものであることを發見して、當時の事情に關する眞相を知り得たのである。\r\n",
      "　恐らく斯の如き有力な材料は、他の堂上華族などにも所藏して居られる方があるかも知れぬ。唯維新以來當時の勝利者の勢焔が當るべからざるものである爲に、其の儘に握り潰されて居るものが多からう。今日になつて見れば當時幕府に味方した人も、長州並に浪人等を引き立てた人も、皆同じく朝廷の爲め國家の爲めを思うて爲たことであらうから、少しも憚る所なく材料を提供すべきであると思ふ。殊に維新史料編纂局においては、從來若しそれらの材料を調べずにあつたならば、今日においては努めて反薩長派の材料をも蒐集して、公平な態度を執らなければならぬと思ふ。其の材料によつて歴史家が如何に判斷するかは各※［＃二の字点、1-2-22］の觀方であつて、從來の如く薩長が連合して革命を起した事に味方する人もあらうし、又公武一體で穩和な改革を企てた方に贊成する人もあらう。要するに材料の取扱ひ方だけは、今日においては井上侯爵中心時代を全く放れる必要がある。\r\n",
      "［＃地から１字上げ］（大正十一年八月談話筆記）\r\n",
      "\r\n",
      "\r\n",
      "\r\n",
      "底本：「内藤湖南全集　第九卷」筑摩書房\r\n",
      "　　　1969（昭和44）年4月10日初版第1刷発行\r\n",
      "　　　1976（昭和51）年10月10日初版第3刷発行\r\n",
      "底本の親本：「増訂日本文化史研究」弘文堂\r\n",
      "　　　1930（昭和5）年11月\r\n",
      "初出：談話筆記\r\n",
      "　　　1922（大正11）年8月\r\n",
      "入力：はまなかひとし\r\n",
      "校正：菅野朋子\r\n",
      "2001年11月28日公開\r\n",
      "2016年4月20日修正\r\n",
      "青空文庫作成ファイル：\r\n",
      "このファイルは、インターネットの図書館、青空文庫（http://www.aozora.gr.jp/）で作られました。入力、校正、制作にあたったのは、ボランティアの皆さんです。\r\n",
      "\n"
     ]
    }
   ],
   "source": [
    "print(text)"
   ]
  },
  {
   "cell_type": "code",
   "execution_count": 5,
   "metadata": {},
   "outputs": [],
   "source": [
    "import MeCab"
   ]
  },
  {
   "cell_type": "code",
   "execution_count": 7,
   "metadata": {},
   "outputs": [],
   "source": [
    "import re"
   ]
  },
  {
   "cell_type": "code",
   "execution_count": 20,
   "metadata": {},
   "outputs": [],
   "source": [
    "from collections import Counter"
   ]
  },
  {
   "cell_type": "code",
   "execution_count": 17,
   "metadata": {},
   "outputs": [],
   "source": [
    "m = MeCab.Tagger()\n",
    "parse = m.parse(text)\n",
    "lines = parse.split(\"\\n\")\n",
    "items = [re.split(\"[\\t,]\", line) for line in lines]\n",
    "#items\n",
    "word = [item[0] for item in items if (item[0] not in (\"EOS\", \"\", )) and item[1] == \"名詞\" and item[2] == \"一般\"] "
   ]
  },
  {
   "cell_type": "code",
   "execution_count": 24,
   "metadata": {},
   "outputs": [
    {
     "name": "stdout",
     "output_type": "stream",
     "text": [
      "つて:29\n",
      "維新:19\n",
      "材料:17\n",
      "對:11\n",
      "當時:10\n",
      "爲:10\n",
      "來:9\n",
      "態度:9\n",
      "薩長:9\n",
      "自分:8\n"
     ]
    }
   ],
   "source": [
    "counter = Counter(word)\n",
    "for word, count in counter.most_common(10):\n",
    "    print(f\"{word}:{count}\")"
   ]
  },
  {
   "cell_type": "code",
   "execution_count": 11,
   "metadata": {},
   "outputs": [],
   "source": [
    "from gensim.models import word2vec"
   ]
  },
  {
   "cell_type": "code",
   "execution_count": 25,
   "metadata": {},
   "outputs": [],
   "source": [
    "import gensim\n",
    "from gensim import corpora\n",
    "from pprint import pprint\n",
    "from collections import defaultdict"
   ]
  },
  {
   "cell_type": "code",
   "execution_count": 27,
   "metadata": {},
   "outputs": [
    {
     "name": "stdout",
     "output_type": "stream",
     "text": [
      "[1, 2, 34, 5]\n"
     ]
    },
    {
     "ename": "AttributeError",
     "evalue": "'function' object has no attribute 'pprint'",
     "output_type": "error",
     "traceback": [
      "\u001b[0;31m---------------------------------------------------------------------------\u001b[0m",
      "\u001b[0;31mAttributeError\u001b[0m                            Traceback (most recent call last)",
      "\u001b[0;32m<ipython-input-27-d6535b0ed78f>\u001b[0m in \u001b[0;36m<module>\u001b[0;34m\u001b[0m\n\u001b[1;32m      1\u001b[0m \u001b[0mlist\u001b[0m \u001b[0;34m=\u001b[0m \u001b[0;34m[\u001b[0m\u001b[0;36m1\u001b[0m\u001b[0;34m,\u001b[0m\u001b[0;36m2\u001b[0m\u001b[0;34m,\u001b[0m\u001b[0;36m34\u001b[0m\u001b[0;34m,\u001b[0m\u001b[0;36m5\u001b[0m\u001b[0;34m]\u001b[0m\u001b[0;34m\u001b[0m\u001b[0;34m\u001b[0m\u001b[0m\n\u001b[1;32m      2\u001b[0m \u001b[0mprint\u001b[0m\u001b[0;34m(\u001b[0m\u001b[0mlist\u001b[0m\u001b[0;34m)\u001b[0m\u001b[0;34m\u001b[0m\u001b[0;34m\u001b[0m\u001b[0m\n\u001b[0;32m----> 3\u001b[0;31m \u001b[0mpprint\u001b[0m\u001b[0;34m.\u001b[0m\u001b[0mpprint\u001b[0m\u001b[0;34m(\u001b[0m\u001b[0mlist\u001b[0m\u001b[0;34m)\u001b[0m\u001b[0;34m\u001b[0m\u001b[0;34m\u001b[0m\u001b[0m\n\u001b[0m",
      "\u001b[0;31mAttributeError\u001b[0m: 'function' object has no attribute 'pprint'"
     ]
    }
   ],
   "source": [
    "list = [1,2,34,5]\n",
    "print(list)\n",
    "pprint.pprint(list)"
   ]
  },
  {
   "cell_type": "code",
   "execution_count": 28,
   "metadata": {},
   "outputs": [],
   "source": [
    "l = [{'Name': 'Alice XXX', 'Age': 40, 'Points': [80, 20]}, \n",
    "     {'Name': 'Bob YYY', 'Age': 20, 'Points': [90, 10]},\n",
    "     {'Name': 'Charlie ZZZ', 'Age': 30, 'Points': [70, 30]}]"
   ]
  },
  {
   "cell_type": "code",
   "execution_count": 30,
   "metadata": {},
   "outputs": [
    {
     "name": "stdout",
     "output_type": "stream",
     "text": [
      "[{'Age': 40, 'Name': 'Alice XXX', 'Points': [80, 20]},\n",
      " {'Age': 20, 'Name': 'Bob YYY', 'Points': [90, 10]},\n",
      " {'Age': 30, 'Name': 'Charlie ZZZ', 'Points': [70, 30]}]\n"
     ]
    }
   ],
   "source": [
    "pprint(l)"
   ]
  },
  {
   "cell_type": "code",
   "execution_count": 31,
   "metadata": {},
   "outputs": [],
   "source": [
    "import gensim\n",
    "from gensim import corpora\n",
    "from pprint import pprint\n",
    "from collections import defaultdict"
   ]
  },
  {
   "cell_type": "code",
   "execution_count": 38,
   "metadata": {},
   "outputs": [],
   "source": [
    "docs = []\n",
    "documents = [\"自然言語処理楽しい\",\n",
    "            \"たくさん金が欲しい\",\n",
    "            \"友達は大切だ\",\n",
    "             \"楽しく生きたい\"\n",
    "            ]\n",
    "texts = [[word for word in document.lower().split()] for document in documents]"
   ]
  },
  {
   "cell_type": "code",
   "execution_count": 35,
   "metadata": {},
   "outputs": [
    {
     "data": {
      "text/plain": [
       "[['自然言語処理楽しい'], ['たくさん金が欲しい'], ['友達は大切だ'], ['楽しく生きたい']]"
      ]
     },
     "execution_count": 35,
     "metadata": {},
     "output_type": "execute_result"
    }
   ],
   "source": [
    "texts"
   ]
  },
  {
   "cell_type": "code",
   "execution_count": 39,
   "metadata": {},
   "outputs": [],
   "source": [
    "dictionary = corpora.Dictionary(texts)\n",
    "dictionary.save(\"./sample.dict.txt\")"
   ]
  },
  {
   "cell_type": "code",
   "execution_count": 40,
   "metadata": {},
   "outputs": [],
   "source": [
    "stop_words = set(\"水族館\") #全く関係ないストップワード\n",
    "stop_words = set('天気 晴れ'.split()) # 天気と晴れをストップワードにする"
   ]
  },
  {
   "cell_type": "code",
   "execution_count": 41,
   "metadata": {},
   "outputs": [
    {
     "data": {
      "text/plain": [
       "{'天気', '晴れ'}"
      ]
     },
     "execution_count": 41,
     "metadata": {},
     "output_type": "execute_result"
    }
   ],
   "source": [
    "stop_words"
   ]
  },
  {
   "cell_type": "code",
   "execution_count": 42,
   "metadata": {},
   "outputs": [
    {
     "name": "stdout",
     "output_type": "stream",
     "text": [
      "[(0, '0.115*\"良い\" + 0.114*\"は\" + 0.113*\"の\" + 0.113*\"明日\" + 0.110*\"今日\" + 0.109*\"降る\" + 0.109*\"雨\" + 0.109*\"が\" + 0.108*\"だ\"'), (1, '0.180*\"は\" + 0.103*\"今日\" + 0.103*\"だ\" + 0.103*\"雨\" + 0.103*\"が\" + 0.103*\"降る\" + 0.102*\"の\" + 0.102*\"明日\" + 0.101*\"良い\"'), (2, '0.117*\"は\" + 0.112*\"明日\" + 0.112*\"良い\" + 0.110*\"の\" + 0.110*\"降る\" + 0.110*\"が\" + 0.110*\"だ\" + 0.109*\"雨\" + 0.109*\"今日\"')]\n",
      "[[(0, 1), (1, 1), (2, 1), (3, 1)]]\n"
     ]
    }
   ],
   "source": [
    "import gensim\n",
    "from gensim import corpora\n",
    "from pprint import pprint\n",
    "from collections import defaultdict\n",
    "\n",
    "# 解析対象の文章を準備\n",
    "docs = []\n",
    "\n",
    "# 文を単語に分割した配列にする\n",
    "\"\"\"\n",
    "こちら変数documentsに解析したい文章を代入してください。\n",
    "\"\"\"\n",
    "documents = [\"今日 の 天気 は 良い 天気 だ\",\n",
    "             \"明日 は 雨 が 降る\"\n",
    "]\n",
    "\n",
    "# ストップワードを定義\n",
    "stop_words = set(\"水族館\") #全く関係ないストップワード\n",
    "stop_words = set('天気 晴れ'.split()) # 天気と晴れをストップワードにする\n",
    "\n",
    "# 文を単語に分割し、ストップワードを除去した配列を作成する\n",
    "texts = [[word for word in document.lower().split() if word not in stop_words] for document in documents]\n",
    "\n",
    "dictionary = corpora.Dictionary(texts)\n",
    "dictionary.save('./sample.dict_2')\n",
    "dictionary.save_as_text('./sample.dict_2.txt')\n",
    "corpus = [dictionary.doc2bow(text) for text in texts]\n",
    "corpora.MmCorpus.serialize('./sample.mm', corpus)\n",
    "lda = gensim.models.ldamodel.LdaModel(corpus=corpus, num_topics=3, id2word=dictionary)\n",
    "print(lda.show_topics())\n",
    "\n",
    "test_documents = [\"今日 の 天気 は 曇り だ\"]\n",
    "test_texts = [[word for word in document.lower().split()] for document in test_documents]\n",
    "test_corpus = [dictionary.doc2bow(text) for text in test_texts]\n",
    "print(test_corpus)"
   ]
  },
  {
   "cell_type": "code",
   "execution_count": 43,
   "metadata": {},
   "outputs": [
    {
     "data": {
      "text/plain": [
       "[['今日', 'の', 'は', '良い', 'だ'], ['明日', 'は', '雨', 'が', '降る']]"
      ]
     },
     "execution_count": 43,
     "metadata": {},
     "output_type": "execute_result"
    }
   ],
   "source": [
    "texts"
   ]
  },
  {
   "cell_type": "code",
   "execution_count": 45,
   "metadata": {},
   "outputs": [
    {
     "data": {
      "text/plain": [
       "<gensim.corpora.dictionary.Dictionary at 0x10cab4a20>"
      ]
     },
     "execution_count": 45,
     "metadata": {},
     "output_type": "execute_result"
    }
   ],
   "source": [
    "dictionary"
   ]
  },
  {
   "cell_type": "code",
   "execution_count": 44,
   "metadata": {},
   "outputs": [
    {
     "data": {
      "text/plain": [
       "[[(0, 1), (1, 1), (2, 1), (3, 1), (4, 1)],\n",
       " [(2, 1), (5, 1), (6, 1), (7, 1), (8, 1)]]"
      ]
     },
     "execution_count": 44,
     "metadata": {},
     "output_type": "execute_result"
    }
   ],
   "source": [
    "corpus"
   ]
  },
  {
   "cell_type": "code",
   "execution_count": null,
   "metadata": {},
   "outputs": [],
   "source": []
  }
 ],
 "metadata": {
  "kernelspec": {
   "display_name": "Python 3",
   "language": "python",
   "name": "python3"
  },
  "language_info": {
   "codemirror_mode": {
    "name": "ipython",
    "version": 3
   },
   "file_extension": ".py",
   "mimetype": "text/x-python",
   "name": "python",
   "nbconvert_exporter": "python",
   "pygments_lexer": "ipython3",
   "version": "3.7.3"
  }
 },
 "nbformat": 4,
 "nbformat_minor": 2
}
