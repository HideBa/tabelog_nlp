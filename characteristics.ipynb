{
 "cells": [
  {
   "cell_type": "code",
   "execution_count": 1,
   "metadata": {},
   "outputs": [],
   "source": [
    "import numpy as np\n",
    "import pandas as pd\n",
    "import pickle\n",
    "import MeCab\n",
    "import sys\n",
    "from collections import Counter, defaultdict\n",
    "import re\n",
    "import urllib.request, urllib.error"
   ]
  },
  {
   "cell_type": "code",
   "execution_count": 2,
   "metadata": {},
   "outputs": [
    {
     "data": {
      "text/plain": [
       "'\\n'"
      ]
     },
     "execution_count": 2,
     "metadata": {},
     "output_type": "execute_result"
    }
   ],
   "source": [
    "tagger = MeCab.Tagger(\"-Owakati\")\n",
    "tagger.parse(\"\")"
   ]
  },
  {
   "cell_type": "code",
   "execution_count": 3,
   "metadata": {},
   "outputs": [],
   "source": [
    "lunch_file = [\"../pretest_sushitsuu_lunch.csv\",\n",
    "              \"../pretest_sushiichi_lunch.csv\",\n",
    "              \"../pretest_sawada_lunch.csv\",\n",
    "              \"../pretest_mitani_lunch.csv\",\n",
    "              \"../pretest_matsukan_lunch.csv\",\n",
    "              \"../pretest_kiyoda_lunch.csv\",\n",
    "              \"../pretest_imamura_lunch.csv\",\n",
    "              \"../pretest_hatsune_lunch.csv\"\n",
    "              ]"
   ]
  },
  {
   "cell_type": "code",
   "execution_count": 4,
   "metadata": {},
   "outputs": [],
   "source": [
    "dinner_file = [\"../pretest_sushitsuu_dinner.csv\",\n",
    "              \"../pretest_sushiichi_dinner.csv\",\n",
    "              \"../pretest_sawada_dinner.csv\",\n",
    "              \"../pretest_mitani_dinner.csv\",\n",
    "              \"../pretest_matsukan_dinner.csv\",\n",
    "              \"../pretest_kiyoda_dinner.csv\",\n",
    "              \"../pretest_imamura_dinner.csv\",\n",
    "              \"../pretest_hatsune_dinner.csv\",\n",
    "              \"../pretest_aozora_dinner.csv\"\n",
    "              ]"
   ]
  },
  {
   "cell_type": "code",
   "execution_count": 5,
   "metadata": {},
   "outputs": [],
   "source": [
    "store_name = [\"sushitsuu\",\n",
    "             \"sushiichi\",\n",
    "             \"sawada\",\n",
    "             \"mitani\",\n",
    "             \"matsukan\",\n",
    "             \"kiyoda\",\n",
    "             \"imamura\",\n",
    "             \"hatsune\",\n",
    "             \"aozora\",\n",
    "             ]"
   ]
  },
  {
   "cell_type": "code",
   "execution_count": 6,
   "metadata": {},
   "outputs": [],
   "source": [
    "url = 'http://svn.sourceforge.jp/svnroot/slothlib/CSharp/Version1/SlothLib/NLP/Filter/StopWord/word/Japanese.txt'\n",
    "slothlib_file = urllib.request.urlopen(url=url)\n",
    "stop_words = [line.decode(\"utf-8\").strip() for line in slothlib_file]\n",
    "stop_words = [sw for sw in stop_words if not sw==u'']\n",
    "my_stop_words = [\"℃/\", \"℃\", \"kg\", \"訪問\", \"寿司\", \"すし\", \"なく\", \"美味しい\", \"美味\",\n",
    "                 \"～」\", \"○－\", \"○○/\", \")○/\", \"握り\", \"シャリ\", \"ネタ\", \"予約\",\n",
    "                \"ない\", \"良い\", \"料理\", \"三谷\", \"最高\", \"好き\", \"好み\", \"最後\", \"美味しかっ\", \"さわ\",\n",
    "                \"店内\", \"最初\", \"一番\", \"良く\", \"追加\", \"良かっ\", \"全て\", \"東京\", \"通り\", \"なし\",\n",
    "                \"美味しく\", \"今日\", \"澤田\", \"非常\", \"スタート\", \"本日\", \"かん\", \"無い\", \"よい\", \"週間\",\n",
    "                \"お願い\", \"～。\", \"素晴らしく\", \"美味し\", \"おいしかっ\", \"日間\", \"場所\", \"美味い\", \"説明\", \"次回\",\n",
    "                \"評価\", \"内容\", \"レベル\", \"○/\", \"://\", \"素晴らしい\", \"印象\", \"貫目\", \"初音\", \"注文\",\n",
    "                \"大好き\", \"空間\", \"状態\", \"よく\", \"瞬間\", \"かなり\", \"com\", '）\"', \",\\u3000\", \"\\u3000-\",\n",
    "                \"◎/\", \"◎◎/\", \"）⚪\", \")、\", \"^)\", \"(^\", \"cp\", \"交互\", \"ボタン\", \"名刺\",\n",
    "                \"嬉しい\", \"店員\", \"オーダー\", \"インター\", \"ピンポン\", \"丁目\", \"全力\", \"入り口\", \"入口\", \"フォン\",\n",
    "                \"馬糞\", \"すき\", \"やばし\", \"マイクロ\", \"冷蔵庫\", \"毎回\", \"まつ\", \"コス\", \"基本\", \"よかっ\",\n",
    "                \"ケース\", \"予想\", \"気分\", \"悪い\", \"きよ\", \"代目\", \"友人\", \"部位\", \"コレ\", \"旨かっ\",\n",
    "                \"その他\", \"コト\", \"良し\", \"まつ\", \"むら\", \"いま\", \"昼間\", \"近所\", \"キロ\", \"代わり\",\n",
    "                \"相手\", \"長い\", \"途中\", \"モノ\", \"狭く\", \"難点\", \"方々\", \"近辺\", \"番手\", \"ーー\",\n",
    "                '\"\"', \"！⚫\", \"青空\", \"ない\", \"\", \"\", \"\", \"\", \"\", \"\",\n",
    "                \"\", \"\", \"\", \"\", \"\", \"\", \"\", \"\", \"\", \"\",\n",
    "                \"\", \"\", \"\", \"\", \"\", \"\", \"\", \"\", \"\", \"\",\n",
    "                \"\", \"\", \"\", \"\", \"\", \"\", \"\", \"\", \"\", \"\",]\n",
    "stop_words += my_stop_words "
   ]
  },
  {
   "cell_type": "code",
   "execution_count": 7,
   "metadata": {},
   "outputs": [],
   "source": [
    "def normalize_number(text):\n",
    "    # 連続した数字を0で置換\n",
    "    replaced_text = re.sub(r'\\d+', '0', text)\n",
    "    return replaced_text"
   ]
  },
  {
   "cell_type": "code",
   "execution_count": 16,
   "metadata": {},
   "outputs": [],
   "source": [
    "def tokenize_ja(text, lower):\n",
    "    text = replaced_text = re.sub(r\"\\d+\", \"0\", text)\n",
    "    node = tagger.parseToNode(str(text))\n",
    "    while node:\n",
    "        surface = node.surface.lower()\n",
    "        if lower and node.feature.split(',')[0] in [\"名詞\"] and surface not in stop_words:\n",
    "            #分かち書きで取得する品詞を指定\n",
    "            yield surface\n",
    "            #lowerで小文字に変換 正規化\n",
    "        node = node.next"
   ]
  },
  {
   "cell_type": "code",
   "execution_count": 17,
   "metadata": {},
   "outputs": [],
   "source": [
    "def tokenize(content, token_min_len, token_max_len, lower):\n",
    "    return [\n",
    "        str(token) for token in tokenize_ja(content, lower)\n",
    "        if token_min_len <= len(token) <= token_max_len and not token.startswith('_')\n",
    "    ]"
   ]
  },
  {
   "cell_type": "code",
   "execution_count": 18,
   "metadata": {},
   "outputs": [],
   "source": [
    "def frequent_lunch(path):\n",
    "    f_words_list = []\n",
    "    #f_words = []\n",
    "    df = pd.read_csv(path)\n",
    "    for i in df[\"lunch_review\"]:\n",
    "        txt = tokenize(i, 2, 10000, True)\n",
    "        for t in txt:\n",
    "            f_words_list.append(t)\n",
    "    #counter = Counter(f_words_list)\n",
    "    #for word, count in counter.most_common(30):\n",
    "        #f_words.append(word + \" \" + str(count))\n",
    "    return f_words_list\n",
    "#店のレビューの単語を全てf_word_listにいれる"
   ]
  },
  {
   "cell_type": "code",
   "execution_count": 19,
   "metadata": {},
   "outputs": [],
   "source": [
    "def frequent_dinner(path):\n",
    "    f_words_list = []\n",
    "    #f_words = []\n",
    "    df = pd.read_csv(path)\n",
    "    for i in df[\"dinner_review\"]:\n",
    "        txt = tokenize(i, 2, 10000, True)\n",
    "        for t in txt:\n",
    "            f_words_list.append(t)\n",
    "    #counter = Counter(f_words_list)\n",
    "    #for word, count in counter.most_common(30):\n",
    "        #f_words.append(word + \" \" + str(count))\n",
    "    return f_words_list\n",
    "#店のレビューの単語を全てf_word_listにいれる"
   ]
  },
  {
   "cell_type": "code",
   "execution_count": 20,
   "metadata": {},
   "outputs": [],
   "source": [
    "lunch_words = []\n",
    "for path in lunch_file:\n",
    "    lunch_words.extend(frequent_lunch(path))"
   ]
  },
  {
   "cell_type": "code",
   "execution_count": 21,
   "metadata": {
    "scrolled": false
   },
   "outputs": [],
   "source": [
    "counter_lunch = Counter(lunch_words)\n",
    "lunch_character_dict = defaultdict(float)\n",
    "len_word = len(lunch_words)\n",
    "for word, count in counter_lunch.most_common(1000):\n",
    "    lunch_character_dict[word] = float(count/len_word)"
   ]
  },
  {
   "cell_type": "code",
   "execution_count": 22,
   "metadata": {},
   "outputs": [],
   "source": [
    "def lunch_character(path):\n",
    "    f_words_list = [] #その店の全単語をいれる\n",
    "    character_words = [] #その店の特徴的な単語をいれる\n",
    "    df = pd.read_csv(path)\n",
    "    for i in df[\"lunch_review\"]:\n",
    "        txt = tokenize(i, 2, 10000, True)\n",
    "        for t in txt:\n",
    "            f_words_list.append(t)\n",
    "    len_word = len(f_words_list)\n",
    "    counter = Counter(f_words_list)\n",
    "    for word, count in counter.most_common(100):\n",
    "        if lunch_character_dict[word] != None:\n",
    "            if float(count/len_word) >= 3 * lunch_character_dict[word]:\n",
    "                character_words.append(word)\n",
    "    return character_words"
   ]
  },
  {
   "cell_type": "code",
   "execution_count": 23,
   "metadata": {},
   "outputs": [
    {
     "name": "stdout",
     "output_type": "stream",
     "text": [
      "['味噌汁', '六本木', 'ばら', 'バラ', '定食', '個室', '西麻布', '焼き魚', 'ズワイガニ', '地下', '研究', '繊維', '小鉢', '事前', 'ほた']\n",
      "['銀座', 'コース', 'デザート', '職人', 'インターホン', 'アイス', '女性', 'ミシュラン', '板前', '芙蓉', '先付け', '刺身', 'シャーベット', '築地', 'スタッフ', 'コロッケ', '和食', '真ん中', 'ソムリエ', '路地', '\"\"', 'ワインセラー', '石橋', 'セリ', '料金']\n",
      "['軍艦', '印籠', 'トマト', '唐津', '鬼灯', '蛇腹', '詰め', 'ーー', '炭火', '禁止', '特大', 'ほおずき']\n",
      "['ワイン', '白子', 'ご飯', 'キャビア', 'スープ', 'シャンパン', 'マリアージュ', 'ソース', 'ステーキ', 'カラス', '銚子', '来年', 'からすみ', '揚げ', '吟醸', '四ツ谷', '待ち', 'ハマグリ', 'シャンパーニュ', '組み合わせ', 'シャコ', '半年', '紀尾井町']\n",
      "['麻布', '雰囲気', '巻物', 'イクラ', '外国', 'ホテル', '元気', '吉祥寺', 'お世話', '満席', '大衆', 'リーズナブル', '小柱', '江戸', '味噌汁', '特徴', '紹介', '今度', '麻布十番', '久しぶり', 'ウマ', 'グッド', '良心', 'テーブル', 'にぎやか', '食事', '系列', '板前', '共通', '普通', '充実', 'コストパフォーマンス', '小ぶり', '気持ち', '鉄火', 'ぶどう', 'ごちそうさま', '午前', 'ドイツ', '帰国', '連れ', '営業', 'タイミング', '存在', '気持', '体験', '本気', '価値', '会計', '当たり', '...', 'たっぷり', 'ズワイガニ', 'ソテー', 'カキ', 'さより', '絶賛', '七味', 'タレ', '全員', 'グランドハイアット', '恵比寿', 'ウェスティン', '近隣', '国際', '支持', '納得', '威勢']\n",
      "['マグロ', '赤身', '旨味', '巻き', 'まぐろ', '酸味', 'コハダ', '白洲', '木村', '鉄火', '親方', '高級', 'こはだ', '伝説', '上品', 'あわび', '連続', '紹介', '独特', '風味', '吉沢', '有名', 'ひらめ', 'さば', 'かっぱ', 'ヒラメ', '一見', '極上', '爽やか', '時代', '新津', '小柱', '霜降り', 'シンプル', 'とも', '日本一', '名店', '主役', 'カレイ', '清らか', '！⚫', 'お断り', '近海', 'instagram', 'pateknautilus', '殆ど', 'れい', '三厩', 'ヒモ', 'しんい', '淡路', '*´', '｀)', '良質', '適度', '格別', '余市', '柔らか']\n",
      "['女将', '白金', 'デザート', 'アイスクリーム', '茶碗蒸し', 'アイス', '奥様', '高輪', '居心地', '北里', 'アナゴ', 'タイプ', '太刀魚', '病院', '美人', 'スミイカ', '機会', 'ブレンド', 'ほうぼう', '北里大学', '大きめ', '小瓶', 'ワサビ']\n",
      "['旨み', '女将', '天然', '温度', '松茸', '蒲田', 'アオリイカ', '千葉', '牡蠣', '伊勢', '登場', '唐墨', '中治', '立て', 'トリュフ', '毛ガニ', '根室', 'タネ', 'かた', '佐島', '大皿', '個体', 'あるじ', '自家製', 'ハム', 'しら', '三重']\n"
     ]
    }
   ],
   "source": [
    "for path in lunch_file:\n",
    "    print(lunch_character(path))"
   ]
  },
  {
   "cell_type": "code",
   "execution_count": 28,
   "metadata": {},
   "outputs": [],
   "source": [
    "dinner_words = []\n",
    "for path in dinner_file:\n",
    "    dinner_words.extend(frequent_dinner(path))"
   ]
  },
  {
   "cell_type": "code",
   "execution_count": 25,
   "metadata": {},
   "outputs": [],
   "source": [
    "counter_dinner = Counter(dinner_words)\n",
    "dinner_character_dict = defaultdict(float)\n",
    "len_word = len(dinner_words)\n",
    "for word, count in counter_dinner.most_common(1000):\n",
    "    dinner_character_dict[word] = float(count/len_word)"
   ]
  },
  {
   "cell_type": "code",
   "execution_count": 26,
   "metadata": {},
   "outputs": [],
   "source": [
    "def dinner_character(path):\n",
    "    f_words_list = []\n",
    "    character_words = []\n",
    "    df = pd.read_csv(path)\n",
    "    for i in df[\"dinner_review\"]:\n",
    "        txt = tokenize(i, 2, 10000, True)\n",
    "        for t in txt:\n",
    "            f_words_list.append(t)\n",
    "    len_word = len(f_words_list)\n",
    "    counter = Counter(f_words_list)\n",
    "    for word, count in counter.most_common(100):\n",
    "        if dinner_character_dict[word] != None:\n",
    "            if float(count/len_word) >= 4 * dinner_character_dict[word]:\n",
    "                character_words.append(word)\n",
    "    return character_words"
   ]
  },
  {
   "cell_type": "code",
   "execution_count": 27,
   "metadata": {},
   "outputs": [
    {
     "name": "stdout",
     "output_type": "stream",
     "text": [
      "['包丁', '西麻布', 'ランチ', '六本木', '個室', '隠し', '研究', '味噌汁', '地下', '塩焼き', '変態', 'テーブル', '繊維', '藤永', 'バラ']\n",
      "['銀座', 'ワイン', 'ランチ', 'インターホン', '海胆', 'ソムリエ', '築地', '女性', 'シャネル', '隠れ家', '階段', '先付け', '燻製', '焼き物', '石橋', 'セリ', 'ウズラ', 'あなご', 'ワインセラー', '牡丹', 'オススメ', '板前']\n",
      "['海胆', '印籠', 'トマト', '唐津', '蝦蛄', '鬼灯', '詰め', '半生', '禁止']\n",
      "['ワイン', 'マリアージュ', 'スープ', '四谷', 'シャンパン', 'キャビア', '待ち', '紀尾井町', 'ソース', 'リング', '四ツ谷', 'ペア', '銚子', '組み合わせ', 'イワシ', 'シャンパーニュ', 'ステーキ', '創作', '半年', '独創']\n",
      "['値段', '麻布', '麻布十番', 'ビール', '活気', '満席', 'テーブル', 'メニュー', '冷酒', 'コストパフォーマンス', 'アジ', '客層', '外国', '家族', '揚げ', '熱燗', 'クオリティ', 'ドリンク', '板前', '居酒屋', 'お世話', '金額', 'アナゴ', '充実', 'カニ', 'たま', '居心地', '気軽', '磯辺', 'リーズナブル', 'メイン', '連れ', '瓶ビール', '接待', 'ｶｳﾝﾀｰ', '時代', 'つめ', '通常', '地元', '人柄', '立地', '出口', '勘八', '昭和', '創業']\n",
      "['まぐろ', '極上', '新津', '真子', 'ツマミ', '新子', '爽やか', '紹介', '伝説', '木村', 'ワタ', '白洲', '潮汁', '投稿', '敷居', 'あわび', '時代', 'とり', 'かっぱ', '閖上', 'カレイ']\n",
      "['白金', '茶碗蒸し', '高輪', '太刀魚', 'アイスクリーム', 'アイス', 'かつお', '歯応え', '北里大学', '病院', '美人', '小瓶', '北里']\n",
      "[]\n",
      "['青空', '移転', '小柱', '次郎', 'ビル', '甘鯛', '修行', '独立', '枝豆', '上質', '新橋', '高橋', 'ポン酢', 'ナガスクジラ', '春子', 'かす']\n"
     ]
    }
   ],
   "source": [
    "for path in dinner_file:\n",
    "    print(dinner_character(path))"
   ]
  },
  {
   "cell_type": "code",
   "execution_count": 29,
   "metadata": {},
   "outputs": [],
   "source": [
    "for i, path in enumerate(lunch_file):\n",
    "    df = pd.DataFrame(lunch_character(path))\n",
    "    df.to_csv(\"pre_analysis_\"+ store_name[i] + \"_lunch.csv\")"
   ]
  },
  {
   "cell_type": "code",
   "execution_count": 30,
   "metadata": {},
   "outputs": [],
   "source": [
    "for i, path in enumerate(dinner_file):\n",
    "    df = pd.DataFrame(dinner_character(path))\n",
    "    df.to_csv(\"pre_analysis_\"+ store_name[i] + \"_dinner.csv\")"
   ]
  },
  {
   "cell_type": "code",
   "execution_count": 32,
   "metadata": {},
   "outputs": [
    {
     "data": {
      "text/html": [
       "<div>\n",
       "<style scoped>\n",
       "    .dataframe tbody tr th:only-of-type {\n",
       "        vertical-align: middle;\n",
       "    }\n",
       "\n",
       "    .dataframe tbody tr th {\n",
       "        vertical-align: top;\n",
       "    }\n",
       "\n",
       "    .dataframe thead th {\n",
       "        text-align: right;\n",
       "    }\n",
       "</style>\n",
       "<table border=\"1\" class=\"dataframe\">\n",
       "  <thead>\n",
       "    <tr style=\"text-align: right;\">\n",
       "      <th></th>\n",
       "      <th>Unnamed: 0</th>\n",
       "      <th>0</th>\n",
       "    </tr>\n",
       "  </thead>\n",
       "  <tbody>\n",
       "    <tr>\n",
       "      <th>0</th>\n",
       "      <td>0</td>\n",
       "      <td>銀座</td>\n",
       "    </tr>\n",
       "    <tr>\n",
       "      <th>1</th>\n",
       "      <td>1</td>\n",
       "      <td>ワイン</td>\n",
       "    </tr>\n",
       "    <tr>\n",
       "      <th>2</th>\n",
       "      <td>2</td>\n",
       "      <td>ランチ</td>\n",
       "    </tr>\n",
       "    <tr>\n",
       "      <th>3</th>\n",
       "      <td>3</td>\n",
       "      <td>インターホン</td>\n",
       "    </tr>\n",
       "    <tr>\n",
       "      <th>4</th>\n",
       "      <td>4</td>\n",
       "      <td>海胆</td>\n",
       "    </tr>\n",
       "    <tr>\n",
       "      <th>5</th>\n",
       "      <td>5</td>\n",
       "      <td>ソムリエ</td>\n",
       "    </tr>\n",
       "    <tr>\n",
       "      <th>6</th>\n",
       "      <td>6</td>\n",
       "      <td>築地</td>\n",
       "    </tr>\n",
       "    <tr>\n",
       "      <th>7</th>\n",
       "      <td>7</td>\n",
       "      <td>女性</td>\n",
       "    </tr>\n",
       "    <tr>\n",
       "      <th>8</th>\n",
       "      <td>8</td>\n",
       "      <td>シャネル</td>\n",
       "    </tr>\n",
       "    <tr>\n",
       "      <th>9</th>\n",
       "      <td>9</td>\n",
       "      <td>隠れ家</td>\n",
       "    </tr>\n",
       "    <tr>\n",
       "      <th>10</th>\n",
       "      <td>10</td>\n",
       "      <td>階段</td>\n",
       "    </tr>\n",
       "    <tr>\n",
       "      <th>11</th>\n",
       "      <td>11</td>\n",
       "      <td>先付け</td>\n",
       "    </tr>\n",
       "    <tr>\n",
       "      <th>12</th>\n",
       "      <td>12</td>\n",
       "      <td>燻製</td>\n",
       "    </tr>\n",
       "    <tr>\n",
       "      <th>13</th>\n",
       "      <td>13</td>\n",
       "      <td>焼き物</td>\n",
       "    </tr>\n",
       "    <tr>\n",
       "      <th>14</th>\n",
       "      <td>14</td>\n",
       "      <td>石橋</td>\n",
       "    </tr>\n",
       "    <tr>\n",
       "      <th>15</th>\n",
       "      <td>15</td>\n",
       "      <td>セリ</td>\n",
       "    </tr>\n",
       "    <tr>\n",
       "      <th>16</th>\n",
       "      <td>16</td>\n",
       "      <td>ウズラ</td>\n",
       "    </tr>\n",
       "    <tr>\n",
       "      <th>17</th>\n",
       "      <td>17</td>\n",
       "      <td>あなご</td>\n",
       "    </tr>\n",
       "    <tr>\n",
       "      <th>18</th>\n",
       "      <td>18</td>\n",
       "      <td>ワインセラー</td>\n",
       "    </tr>\n",
       "    <tr>\n",
       "      <th>19</th>\n",
       "      <td>19</td>\n",
       "      <td>牡丹</td>\n",
       "    </tr>\n",
       "    <tr>\n",
       "      <th>20</th>\n",
       "      <td>20</td>\n",
       "      <td>オススメ</td>\n",
       "    </tr>\n",
       "    <tr>\n",
       "      <th>21</th>\n",
       "      <td>21</td>\n",
       "      <td>板前</td>\n",
       "    </tr>\n",
       "  </tbody>\n",
       "</table>\n",
       "</div>"
      ],
      "text/plain": [
       "    Unnamed: 0       0\n",
       "0            0      銀座\n",
       "1            1     ワイン\n",
       "2            2     ランチ\n",
       "3            3  インターホン\n",
       "4            4      海胆\n",
       "5            5    ソムリエ\n",
       "6            6      築地\n",
       "7            7      女性\n",
       "8            8    シャネル\n",
       "9            9     隠れ家\n",
       "10          10      階段\n",
       "11          11     先付け\n",
       "12          12      燻製\n",
       "13          13     焼き物\n",
       "14          14      石橋\n",
       "15          15      セリ\n",
       "16          16     ウズラ\n",
       "17          17     あなご\n",
       "18          18  ワインセラー\n",
       "19          19      牡丹\n",
       "20          20    オススメ\n",
       "21          21      板前"
      ]
     },
     "execution_count": 32,
     "metadata": {},
     "output_type": "execute_result"
    }
   ],
   "source": [
    "df = pd.read_csv(\"pre_analysis_sushiichi_dinner.csv\")\n",
    "df"
   ]
  },
  {
   "cell_type": "code",
   "execution_count": null,
   "metadata": {},
   "outputs": [],
   "source": []
  }
 ],
 "metadata": {
  "kernelspec": {
   "display_name": "Python 3",
   "language": "python",
   "name": "python3"
  },
  "language_info": {
   "codemirror_mode": {
    "name": "ipython",
    "version": 3
   },
   "file_extension": ".py",
   "mimetype": "text/x-python",
   "name": "python",
   "nbconvert_exporter": "python",
   "pygments_lexer": "ipython3",
   "version": "3.7.3"
  }
 },
 "nbformat": 4,
 "nbformat_minor": 2
}
